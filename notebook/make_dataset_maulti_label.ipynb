{
 "cells": [
  {
   "cell_type": "markdown",
   "metadata": {},
   "source": [
    "# dataMapの作成"
   ]
  },
  {
   "cell_type": "code",
   "execution_count": 1,
   "metadata": {},
   "outputs": [],
   "source": [
    "import requests\n",
    "import bz2\n",
    "from tqdm.notebook import tqdm_notebook as tqdm\n",
    "import pandas as pd"
   ]
  },
  {
   "cell_type": "code",
   "execution_count": 2,
   "metadata": {},
   "outputs": [],
   "source": [
    "url = \"http://www.db.info.gifu-u.ac.jp/data/tweets_open.csv.bz2\"\n",
    "filename = \"./data/twitter/tweets_open.csv\""
   ]
  },
  {
   "cell_type": "code",
   "execution_count": 3,
   "metadata": {},
   "outputs": [],
   "source": [
    "chunk_size = 32 * 1024\n",
    "r = requests.get(url, stream=True, headers={'User-agent': 'Mozilla/5.0'})\n",
    "decom = bz2.BZ2Decompressor()\n",
    "with open(filename, 'wb') as f:\n",
    "    for data in r.iter_content(chunk_size):\n",
    "        f.write(decom.decompress(data))\n",
    "r.close()"
   ]
  },
  {
   "cell_type": "code",
   "execution_count": 3,
   "metadata": {},
   "outputs": [
    {
     "name": "stderr",
     "output_type": "stream",
     "text": [
      "e:\\anaconda_env\\nlp\\lib\\site-packages\\IPython\\core\\interactiveshell.py:3398: FutureWarning: In a future version of pandas all arguments of read_csv except for the argument 'filepath_or_buffer' will be keyword-only.\n",
      "  exec(code_obj, self.user_global_ns, self.user_ns)\n"
     ]
    },
    {
     "data": {
      "text/html": [
       "<div>\n",
       "<style scoped>\n",
       "    .dataframe tbody tr th:only-of-type {\n",
       "        vertical-align: middle;\n",
       "    }\n",
       "\n",
       "    .dataframe tbody tr th {\n",
       "        vertical-align: top;\n",
       "    }\n",
       "\n",
       "    .dataframe thead th {\n",
       "        text-align: right;\n",
       "    }\n",
       "</style>\n",
       "<table border=\"1\" class=\"dataframe\">\n",
       "  <thead>\n",
       "    <tr style=\"text-align: right;\">\n",
       "      <th></th>\n",
       "      <th>0</th>\n",
       "    </tr>\n",
       "  </thead>\n",
       "  <tbody>\n",
       "    <tr>\n",
       "      <th>0</th>\n",
       "      <td>10025,10000,522407718091366400,0,0,1,1,0</td>\n",
       "    </tr>\n",
       "    <tr>\n",
       "      <th>1</th>\n",
       "      <td>10026,10000,522407768003592192,0,0,1,0,0</td>\n",
       "    </tr>\n",
       "    <tr>\n",
       "      <th>2</th>\n",
       "      <td>10027,10000,522408018642628609,0,0,1,1,0</td>\n",
       "    </tr>\n",
       "    <tr>\n",
       "      <th>3</th>\n",
       "      <td>10028,10000,522408394871672832,0,0,0,1,0</td>\n",
       "    </tr>\n",
       "    <tr>\n",
       "      <th>4</th>\n",
       "      <td>10029,10000,522408454778929153,0,0,0,1,0</td>\n",
       "    </tr>\n",
       "  </tbody>\n",
       "</table>\n",
       "</div>"
      ],
      "text/plain": [
       "                                          0\n",
       "0  10025,10000,522407718091366400,0,0,1,1,0\n",
       "1  10026,10000,522407768003592192,0,0,1,0,0\n",
       "2  10027,10000,522408018642628609,0,0,1,1,0\n",
       "3  10028,10000,522408394871672832,0,0,0,1,0\n",
       "4  10029,10000,522408454778929153,0,0,0,1,0"
      ]
     },
     "execution_count": 3,
     "metadata": {},
     "output_type": "execute_result"
    }
   ],
   "source": [
    "df = pd.read_csv(filename, 'r', header=None)\n",
    "df.head(5)"
   ]
  },
  {
   "cell_type": "code",
   "execution_count": 4,
   "metadata": {},
   "outputs": [
    {
     "data": {
      "text/plain": [
       "[['10025', '10000', '522407718091366400', '0', '0', '1', '1', '0'],\n",
       " ['10026', '10000', '522407768003592192', '0', '0', '1', '0', '0'],\n",
       " ['10027', '10000', '522408018642628609', '0', '0', '1', '1', '0']]"
      ]
     },
     "execution_count": 4,
     "metadata": {},
     "output_type": "execute_result"
    }
   ],
   "source": [
    "data_list = [item.split(\",\") for item in df[0].to_list()]\n",
    "data_list[:3]"
   ]
  },
  {
   "cell_type": "code",
   "execution_count": 6,
   "metadata": {},
   "outputs": [
    {
     "data": {
      "text/html": [
       "<div>\n",
       "<style scoped>\n",
       "    .dataframe tbody tr th:only-of-type {\n",
       "        vertical-align: middle;\n",
       "    }\n",
       "\n",
       "    .dataframe tbody tr th {\n",
       "        vertical-align: top;\n",
       "    }\n",
       "\n",
       "    .dataframe thead th {\n",
       "        text-align: right;\n",
       "    }\n",
       "</style>\n",
       "<table border=\"1\" class=\"dataframe\">\n",
       "  <thead>\n",
       "    <tr style=\"text-align: right;\">\n",
       "      <th></th>\n",
       "      <th>0</th>\n",
       "      <th>1</th>\n",
       "      <th>2</th>\n",
       "      <th>3</th>\n",
       "      <th>4</th>\n",
       "      <th>5</th>\n",
       "      <th>6</th>\n",
       "      <th>7</th>\n",
       "    </tr>\n",
       "  </thead>\n",
       "  <tbody>\n",
       "    <tr>\n",
       "      <th>0</th>\n",
       "      <td>10025</td>\n",
       "      <td>10000</td>\n",
       "      <td>522407718091366400</td>\n",
       "      <td>0</td>\n",
       "      <td>0</td>\n",
       "      <td>1</td>\n",
       "      <td>1</td>\n",
       "      <td>0</td>\n",
       "    </tr>\n",
       "    <tr>\n",
       "      <th>1</th>\n",
       "      <td>10026</td>\n",
       "      <td>10000</td>\n",
       "      <td>522407768003592192</td>\n",
       "      <td>0</td>\n",
       "      <td>0</td>\n",
       "      <td>1</td>\n",
       "      <td>0</td>\n",
       "      <td>0</td>\n",
       "    </tr>\n",
       "    <tr>\n",
       "      <th>2</th>\n",
       "      <td>10027</td>\n",
       "      <td>10000</td>\n",
       "      <td>522408018642628609</td>\n",
       "      <td>0</td>\n",
       "      <td>0</td>\n",
       "      <td>1</td>\n",
       "      <td>1</td>\n",
       "      <td>0</td>\n",
       "    </tr>\n",
       "    <tr>\n",
       "      <th>3</th>\n",
       "      <td>10028</td>\n",
       "      <td>10000</td>\n",
       "      <td>522408394871672832</td>\n",
       "      <td>0</td>\n",
       "      <td>0</td>\n",
       "      <td>0</td>\n",
       "      <td>1</td>\n",
       "      <td>0</td>\n",
       "    </tr>\n",
       "    <tr>\n",
       "      <th>4</th>\n",
       "      <td>10029</td>\n",
       "      <td>10000</td>\n",
       "      <td>522408454778929153</td>\n",
       "      <td>0</td>\n",
       "      <td>0</td>\n",
       "      <td>0</td>\n",
       "      <td>1</td>\n",
       "      <td>0</td>\n",
       "    </tr>\n",
       "  </tbody>\n",
       "</table>\n",
       "</div>"
      ],
      "text/plain": [
       "       0      1                   2  3  4  5  6  7\n",
       "0  10025  10000  522407718091366400  0  0  1  1  0\n",
       "1  10026  10000  522407768003592192  0  0  1  0  0\n",
       "2  10027  10000  522408018642628609  0  0  1  1  0\n",
       "3  10028  10000  522408394871672832  0  0  0  1  0\n",
       "4  10029  10000  522408454778929153  0  0  0  1  0"
      ]
     },
     "execution_count": 6,
     "metadata": {},
     "output_type": "execute_result"
    }
   ],
   "source": [
    "df = pd.DataFrame(data_list)\n",
    "df.head(5)"
   ]
  },
  {
   "cell_type": "code",
   "execution_count": 7,
   "metadata": {},
   "outputs": [
    {
     "data": {
      "text/html": [
       "<div>\n",
       "<style scoped>\n",
       "    .dataframe tbody tr th:only-of-type {\n",
       "        vertical-align: middle;\n",
       "    }\n",
       "\n",
       "    .dataframe tbody tr th {\n",
       "        vertical-align: top;\n",
       "    }\n",
       "\n",
       "    .dataframe thead th {\n",
       "        text-align: right;\n",
       "    }\n",
       "</style>\n",
       "<table border=\"1\" class=\"dataframe\">\n",
       "  <thead>\n",
       "    <tr style=\"text-align: right;\">\n",
       "      <th></th>\n",
       "      <th>0</th>\n",
       "      <th>1</th>\n",
       "      <th>2</th>\n",
       "      <th>3</th>\n",
       "      <th>4</th>\n",
       "      <th>5</th>\n",
       "      <th>6</th>\n",
       "      <th>7</th>\n",
       "    </tr>\n",
       "  </thead>\n",
       "  <tbody>\n",
       "  </tbody>\n",
       "</table>\n",
       "</div>"
      ],
      "text/plain": [
       "Empty DataFrame\n",
       "Columns: [0, 1, 2, 3, 4, 5, 6, 7]\n",
       "Index: []"
      ]
     },
     "execution_count": 7,
     "metadata": {},
     "output_type": "execute_result"
    }
   ],
   "source": [
    "df[df.isna().any(axis=1)]\n",
    "\n",
    "# df = df.fillna(0).astype('int')\n",
    "# df.head()"
   ]
  },
  {
   "cell_type": "code",
   "execution_count": 8,
   "metadata": {},
   "outputs": [],
   "source": [
    "df.to_csv(filename, header=None, index=None)"
   ]
  },
  {
   "cell_type": "markdown",
   "metadata": {},
   "source": [
    "# Tweetの取得"
   ]
  },
  {
   "cell_type": "code",
   "execution_count": 9,
   "metadata": {},
   "outputs": [],
   "source": [
    "import sys\n",
    "import json\n",
    "import time\n",
    "import pickle\n",
    "import itertools\n",
    "from requests_oauthlib import OAuth1Session"
   ]
  },
  {
   "cell_type": "code",
   "execution_count": 3,
   "metadata": {},
   "outputs": [],
   "source": [
    "from dotenv import load_dotenv\n",
    "load_dotenv(\".env\")\n",
    "\n",
    "# 環境変数を参照\n",
    "import os\n",
    "CONSUMER_KEY = os.getenv('CONSUMER_KEY')\n",
    "CONSUMER_SECRET = os.getenv('CONSUMER_SECRET')\n",
    "ACCESS_TOKEN = os.getenv('ACCESS_TOKEN')\n",
    "ACCESS_TOKEN_SECRET = os.getenv('ACCESS_TOKEN_SECRET')"
   ]
  },
  {
   "cell_type": "code",
   "execution_count": 10,
   "metadata": {},
   "outputs": [],
   "source": [
    "session = OAuth1Session(CONSUMER_KEY, CONSUMER_SECRET, ACCESS_TOKEN, ACCESS_TOKEN_SECRET)"
   ]
  },
  {
   "cell_type": "code",
   "execution_count": 11,
   "metadata": {},
   "outputs": [],
   "source": [
    "# Twitetr api v1の場合\n",
    "url = 'https://api.twitter.com/1.1/statuses/lookup.json'\n",
    "\n",
    "def get_tweets(tweet_ids):\n",
    "    tweet_ids = ','.join(tweet_ids)\n",
    "    res = session.get(url, params = {'id':tweet_ids})  # get tweets\n",
    "\n",
    "    if res.status_code != 200:\n",
    "        print (\"Twitter API Error: %d\" % res.status_code)\n",
    "        sys.exit(1)\n",
    "\n",
    "    try:\n",
    "        res_text = json.loads(res.text)\n",
    "        data = {rt['id']:rt['text'] for rt in res_text['data']}\n",
    "    except:\n",
    "        data = False\n",
    "    data = {rt['id']:rt['text'] for rt in res_text}\n",
    "    return data"
   ]
  },
  {
   "cell_type": "code",
   "execution_count": 12,
   "metadata": {},
   "outputs": [],
   "source": [
    "# Twitetr api v2の場合\n",
    "url = 'https://api.twitter.com/2/tweets'\n",
    "\n",
    "def get_tweets_v2(tweet_ids):\n",
    "    data = False\n",
    "    tweet_ids = ','.join(tweet_ids)\n",
    "    res = session.get(url, params = {'ids':tweet_ids})  # get tweets\n",
    "\n",
    "    if res.status_code != 200:\n",
    "        print (\"Twitter API Error: %d\" % res.status_code)\n",
    "        sys.exit(1)\n",
    "    try:\n",
    "        res_text = json.loads(res.text)\n",
    "        data = {rt['id']:rt['text'] for rt in res_text['data']}\n",
    "    except:\n",
    "        pass\n",
    "    return data"
   ]
  },
  {
   "cell_type": "code",
   "execution_count": 13,
   "metadata": {},
   "outputs": [
    {
     "data": {
      "application/vnd.jupyter.widget-view+json": {
       "model_id": "e6ceff3ca50f417d9236279c24bf90af",
       "version_major": 2,
       "version_minor": 0
      },
      "text/plain": [
       "  0%|          | 0/534963 [00:00<?, ?it/s]"
      ]
     },
     "metadata": {},
     "output_type": "display_data"
    },
    {
     "name": "stdout",
     "output_type": "stream",
     "text": [
      "Connection error...\n"
     ]
    }
   ],
   "source": [
    "chunk_size = 100\n",
    "\n",
    "dataset = [line.strip().split(',') for line in open(filename)]\n",
    "alldata = []\n",
    "\n",
    "try:\n",
    "    with tqdm(total=len(dataset)) as pbar:\n",
    "        for batch in itertools.zip_longest(*[iter(dataset)]*chunk_size):        \n",
    "            \n",
    "            batch = [b for b in batch if b is not None]\n",
    "            tweets = get_tweets_v2([line[2] for line in batch])\n",
    "            if not tweets:\n",
    "                continue\n",
    "\n",
    "            for line in batch:\n",
    "                data = {'id':int(line[0]),\n",
    "                        'topic':int(line[1]),\n",
    "                        'status':int(line[2]),\n",
    "                        'label':list(map(int, line[3:])),\n",
    "                        'text':tweets.get(line[2], '')\n",
    "                        }\n",
    "                alldata.append(data)\n",
    "        \n",
    "            pbar.update(len(batch))\n",
    "            time.sleep(3)\n",
    "            \n",
    "            # if len(alldata) >= 1000:\n",
    "            #     break\n",
    "\n",
    "except:\n",
    "    print(\"Connection error...\")\n",
    "    pass\n",
    "\n",
    "pickle.dump(alldata, open('./data/twitter/twitterJSA_data.pickle','wb'))"
   ]
  },
  {
   "cell_type": "code",
   "execution_count": 14,
   "metadata": {},
   "outputs": [
    {
     "data": {
      "text/html": [
       "<div>\n",
       "<style scoped>\n",
       "    .dataframe tbody tr th:only-of-type {\n",
       "        vertical-align: middle;\n",
       "    }\n",
       "\n",
       "    .dataframe tbody tr th {\n",
       "        vertical-align: top;\n",
       "    }\n",
       "\n",
       "    .dataframe thead th {\n",
       "        text-align: right;\n",
       "    }\n",
       "</style>\n",
       "<table border=\"1\" class=\"dataframe\">\n",
       "  <thead>\n",
       "    <tr style=\"text-align: right;\">\n",
       "      <th></th>\n",
       "      <th>id</th>\n",
       "      <th>topic</th>\n",
       "      <th>status</th>\n",
       "      <th>label</th>\n",
       "      <th>text</th>\n",
       "    </tr>\n",
       "  </thead>\n",
       "  <tbody>\n",
       "    <tr>\n",
       "      <th>0</th>\n",
       "      <td>10025</td>\n",
       "      <td>10000</td>\n",
       "      <td>522407718091366400</td>\n",
       "      <td>[0, 0, 1, 1, 0]</td>\n",
       "      <td>エクスペリアのGPS南北が逆になるのはデフォだったのか。</td>\n",
       "    </tr>\n",
       "    <tr>\n",
       "      <th>1</th>\n",
       "      <td>10026</td>\n",
       "      <td>10000</td>\n",
       "      <td>522407768003592192</td>\n",
       "      <td>[0, 0, 1, 0, 0]</td>\n",
       "      <td>xperiaでスクフェス糞\\n反応遅いんだよ糞が</td>\n",
       "    </tr>\n",
       "    <tr>\n",
       "      <th>2</th>\n",
       "      <td>10027</td>\n",
       "      <td>10000</td>\n",
       "      <td>522408018642628609</td>\n",
       "      <td>[0, 0, 1, 1, 0]</td>\n",
       "      <td>夏春都が持ってたエクスペリアも今使うには辛い</td>\n",
       "    </tr>\n",
       "    <tr>\n",
       "      <th>7</th>\n",
       "      <td>10032</td>\n",
       "      <td>10000</td>\n",
       "      <td>522409063154339840</td>\n",
       "      <td>[0, 0, 0, 1, 0]</td>\n",
       "      <td>少し時間空いちゃいましたが、Xperia Z3のカメラ機能について、ちょっとだけですけどまと...</td>\n",
       "    </tr>\n",
       "    <tr>\n",
       "      <th>8</th>\n",
       "      <td>10033</td>\n",
       "      <td>10000</td>\n",
       "      <td>522409073057091584</td>\n",
       "      <td>[0, 0, 0, 0, 1]</td>\n",
       "      <td>日向「研磨おたおめー。これプレゼント!!」\\n孤爪「こ、これは」\\n日向「ビビった?」\\n孤...</td>\n",
       "    </tr>\n",
       "    <tr>\n",
       "      <th>...</th>\n",
       "      <td>...</td>\n",
       "      <td>...</td>\n",
       "      <td>...</td>\n",
       "      <td>...</td>\n",
       "      <td>...</td>\n",
       "    </tr>\n",
       "    <tr>\n",
       "      <th>534945</th>\n",
       "      <td>2723562</td>\n",
       "      <td>10021</td>\n",
       "      <td>702909240386584576</td>\n",
       "      <td>[0, 0, 0, 0, 1]</td>\n",
       "      <td>今さっきカプセルホテルでパスコードとかしてないiPhone6を落としたんだ。\\n色々詰んだわ...</td>\n",
       "    </tr>\n",
       "    <tr>\n",
       "      <th>534947</th>\n",
       "      <td>2723564</td>\n",
       "      <td>10021</td>\n",
       "      <td>702906549962805248</td>\n",
       "      <td>[0, 0, 0, 1, 0]</td>\n",
       "      <td>KORG Gadget 、iPhone 6s Plusでじゅうぶん動く。KORG Gadge...</td>\n",
       "    </tr>\n",
       "    <tr>\n",
       "      <th>534949</th>\n",
       "      <td>2723932</td>\n",
       "      <td>10021</td>\n",
       "      <td>703558619824926720</td>\n",
       "      <td>[0, 0, 0, 1, 0]</td>\n",
       "      <td>あ～ケータイが飛んでる～　あれ？ラッキーの顔がiPhone6だ～まあ私のケータイAndroi...</td>\n",
       "    </tr>\n",
       "    <tr>\n",
       "      <th>534954</th>\n",
       "      <td>2723937</td>\n",
       "      <td>10021</td>\n",
       "      <td>703557929929015297</td>\n",
       "      <td>[0, 0, 0, 1, 1]</td>\n",
       "      <td>お風呂上がってぼーっと冷蔵庫の前で\\n刑事ドラマの過激なシーンに見とれて\\nカバーの付いてな...</td>\n",
       "    </tr>\n",
       "    <tr>\n",
       "      <th>534956</th>\n",
       "      <td>2723939</td>\n",
       "      <td>10021</td>\n",
       "      <td>703557811662262272</td>\n",
       "      <td>[0, 0, 0, 1, 0]</td>\n",
       "      <td>iPhone6sローズゴールドにしたゼーイわーい(*^^*)</td>\n",
       "    </tr>\n",
       "  </tbody>\n",
       "</table>\n",
       "<p>292556 rows × 5 columns</p>\n",
       "</div>"
      ],
      "text/plain": [
       "             id  topic              status            label  \\\n",
       "0         10025  10000  522407718091366400  [0, 0, 1, 1, 0]   \n",
       "1         10026  10000  522407768003592192  [0, 0, 1, 0, 0]   \n",
       "2         10027  10000  522408018642628609  [0, 0, 1, 1, 0]   \n",
       "7         10032  10000  522409063154339840  [0, 0, 0, 1, 0]   \n",
       "8         10033  10000  522409073057091584  [0, 0, 0, 0, 1]   \n",
       "...         ...    ...                 ...              ...   \n",
       "534945  2723562  10021  702909240386584576  [0, 0, 0, 0, 1]   \n",
       "534947  2723564  10021  702906549962805248  [0, 0, 0, 1, 0]   \n",
       "534949  2723932  10021  703558619824926720  [0, 0, 0, 1, 0]   \n",
       "534954  2723937  10021  703557929929015297  [0, 0, 0, 1, 1]   \n",
       "534956  2723939  10021  703557811662262272  [0, 0, 0, 1, 0]   \n",
       "\n",
       "                                                     text  \n",
       "0                            エクスペリアのGPS南北が逆になるのはデフォだったのか。  \n",
       "1                                xperiaでスクフェス糞\\n反応遅いんだよ糞が  \n",
       "2                                  夏春都が持ってたエクスペリアも今使うには辛い  \n",
       "7       少し時間空いちゃいましたが、Xperia Z3のカメラ機能について、ちょっとだけですけどまと...  \n",
       "8       日向「研磨おたおめー。これプレゼント!!」\\n孤爪「こ、これは」\\n日向「ビビった?」\\n孤...  \n",
       "...                                                   ...  \n",
       "534945  今さっきカプセルホテルでパスコードとかしてないiPhone6を落としたんだ。\\n色々詰んだわ...  \n",
       "534947  KORG Gadget 、iPhone 6s Plusでじゅうぶん動く。KORG Gadge...  \n",
       "534949  あ～ケータイが飛んでる～　あれ？ラッキーの顔がiPhone6だ～まあ私のケータイAndroi...  \n",
       "534954  お風呂上がってぼーっと冷蔵庫の前で\\n刑事ドラマの過激なシーンに見とれて\\nカバーの付いてな...  \n",
       "534956                     iPhone6sローズゴールドにしたゼーイわーい(*^^*)  \n",
       "\n",
       "[292556 rows x 5 columns]"
      ]
     },
     "execution_count": 14,
     "metadata": {},
     "output_type": "execute_result"
    }
   ],
   "source": [
    "df = pd.DataFrame.from_dict(pd.read_pickle('./data/twitter/twitterJSA_data.pickle'))\n",
    "df[df['text']!='']"
   ]
  },
  {
   "cell_type": "code",
   "execution_count": 15,
   "metadata": {},
   "outputs": [
    {
     "name": "stdout",
     "output_type": "stream",
     "text": [
      "レコード数: 292556件\n"
     ]
    }
   ],
   "source": [
    "# remove no text\n",
    "df = df.loc[df.text!=''].reset_index(drop=True)\n",
    "print(f\"レコード数: {len(df)}件\")"
   ]
  },
  {
   "cell_type": "code",
   "execution_count": 17,
   "metadata": {},
   "outputs": [
    {
     "name": "stdout",
     "output_type": "stream",
     "text": [
      "[0, 0, 1, 1, 0]\n",
      "2\n",
      "[0, 0, 1, 0, 0]\n",
      "1\n",
      "[0, 0, 1, 1, 0]\n",
      "2\n"
     ]
    }
   ],
   "source": [
    "multi_label_num = 0\n",
    "for labels in df.label.to_list()[:3]:\n",
    "    if sum(labels) > 1:\n",
    "        multi_label_num += 1\n"
   ]
  },
  {
   "cell_type": "code",
   "execution_count": null,
   "metadata": {},
   "outputs": [],
   "source": []
  }
 ],
 "metadata": {
  "kernelspec": {
   "display_name": "Python 3.9.13 ('nlp')",
   "language": "python",
   "name": "python3"
  },
  "language_info": {
   "codemirror_mode": {
    "name": "ipython",
    "version": 3
   },
   "file_extension": ".py",
   "mimetype": "text/x-python",
   "name": "python",
   "nbconvert_exporter": "python",
   "pygments_lexer": "ipython3",
   "version": "3.9.13"
  },
  "orig_nbformat": 4,
  "vscode": {
   "interpreter": {
    "hash": "5955dc64dc45c9f6ad89241066402e9b90de6090510d28e2354caffb11d22191"
   }
  }
 },
 "nbformat": 4,
 "nbformat_minor": 2
}

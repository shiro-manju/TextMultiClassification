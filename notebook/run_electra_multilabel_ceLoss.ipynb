{
 "cells": [
  {
   "cell_type": "markdown",
   "metadata": {},
   "source": [
    "参考: https://qiita.com/sugulu_Ogawa_ISID/items/697bd03499c1de9cf082"
   ]
  },
  {
   "cell_type": "code",
   "execution_count": 1,
   "metadata": {},
   "outputs": [
    {
     "name": "stdout",
     "output_type": "stream",
     "text": [
      "1.11.0+cu113\n"
     ]
    },
    {
     "data": {
      "text/plain": [
       "device(type='cuda')"
      ]
     },
     "execution_count": 1,
     "metadata": {},
     "output_type": "execute_result"
    }
   ],
   "source": [
    "import pandas as pd\n",
    "import numpy as np\n",
    "from sklearn.model_selection import train_test_split\n",
    "from tqdm import tqdm\n",
    "import torch\n",
    "from torch.utils.data import DataLoader\n",
    "\n",
    "print(torch.__version__)\n",
    "device = torch.device('cuda') if torch.cuda.is_available() else torch.device('cpu')\n",
    "device"
   ]
  },
  {
   "cell_type": "code",
   "execution_count": 2,
   "metadata": {},
   "outputs": [
    {
     "data": {
      "text/plain": [
       "<bound method NDFrame.head of              id  topic              status            label  \\\n",
       "260782  1152146  10026  649586508110757888  [0, 0, 0, 0, 1]   \n",
       "328485  1394459  10022  703752483483430912  [0, 0, 1, 0, 0]   \n",
       "493161  2672788  10021  691170800846548992  [0, 0, 0, 1, 0]   \n",
       "83628    478577  10000  668649960359878656  [0, 0, 1, 0, 0]   \n",
       "57522    473962  10000  667307740990083073  [0, 0, 0, 1, 0]   \n",
       "...         ...    ...                 ...              ...   \n",
       "40864    457206  10000  661404228057849856  [0, 0, 0, 0, 1]   \n",
       "258538  1154205  10024  460976864593326081  [0, 0, 0, 1, 0]   \n",
       "15994     28434  10000  527276031233646592  [0, 0, 1, 1, 0]   \n",
       "469170  2152918  10025  699154791004409856  [0, 0, 0, 1, 0]   \n",
       "413335  2021103  10024  678222887090700288  [0, 0, 0, 1, 0]   \n",
       "\n",
       "                                                     text  \n",
       "260782                   コーテク垢までシャープに絡みに行ってるやんけｗｗｗｗｗｗｗｗｗｗ  \n",
       "328485  パナ機今日も録画準備に入った所で電源落ちたよね\\nJスポ4CC男子フリーの頭切れてるよね\\n...  \n",
       "493161            寒波により強気なので\\nとりあえず、OLSでiPhone6sを\\n申込みました  \n",
       "83628   リリイベで当選メールが必要な今日になって再起動病再発するxperia z5ちゃんにキレそう(...  \n",
       "57522                                                      \n",
       "...                                                   ...  \n",
       "40864                                       ちなみにおれはXperia  \n",
       "258538                                                     \n",
       "15994                                                      \n",
       "469170                                                     \n",
       "413335  コンビニのネットプリント使えば、対象のコンビニにさえ行ければ、誰でも会報が入手できる…。こう...  \n",
       "\n",
       "[7000 rows x 5 columns]>"
      ]
     },
     "execution_count": 2,
     "metadata": {},
     "output_type": "execute_result"
    }
   ],
   "source": [
    "df = pd.DataFrame.from_dict(pd.read_pickle('./data/twitter/twitterJSA_data.pickle'))\n",
    "lable2idx = {0:\"ポジティブ&ネガティブ\",\n",
    "            1:\"ポジティブ\",\n",
    "            2:\"ネガティブ\",\n",
    "            3:\"ニュートラル\",\n",
    "            4:\"無関係\"}\n",
    "lable_length = 5\n",
    "\n",
    "# data数削減\n",
    "df = df.sample(n=7000, random_state=123)\n",
    "df.head"
   ]
  },
  {
   "cell_type": "code",
   "execution_count": 3,
   "metadata": {},
   "outputs": [
    {
     "name": "stdout",
     "output_type": "stream",
     "text": [
      "[0, 0, 0, 0, 1]    2039\n",
      "[0, 0, 0, 1, 0]    1432\n",
      "[0, 0, 1, 0, 0]     178\n",
      "[0, 0, 0, 1, 1]      97\n",
      "[0, 1, 0, 0, 0]      87\n",
      "[0, 0, 1, 1, 0]      32\n",
      "[0, 1, 0, 1, 0]      20\n",
      "[0, 0, 1, 0, 1]      11\n",
      "[0, 1, 0, 0, 1]       8\n",
      "[1, 0, 0, 0, 0]       6\n",
      "[1, 0, 0, 1, 0]       4\n",
      "[1, 1, 0, 0, 0]       3\n",
      "[1, 1, 1, 1, 1]       2\n",
      "[1, 0, 0, 0, 1]       1\n",
      "Name: label, dtype: int64\n",
      "[0, 0, 0, 0, 1]    1068\n",
      "[0, 0, 0, 1, 0]     795\n",
      "[0, 0, 1, 0, 0]      77\n",
      "[0, 1, 0, 0, 0]      57\n",
      "[0, 0, 0, 1, 1]      51\n",
      "[0, 0, 1, 1, 0]      18\n",
      "[0, 0, 1, 0, 1]      15\n",
      "[0, 1, 0, 1, 0]       9\n",
      "[0, 1, 0, 0, 1]       6\n",
      "[1, 0, 0, 0, 0]       2\n",
      "[1, 0, 0, 1, 0]       1\n",
      "[1, 1, 0, 0, 0]       1\n",
      "Name: label, dtype: int64\n"
     ]
    }
   ],
   "source": [
    "train_df, test_df = train_test_split(df, test_size=0.3, shuffle=True)\n",
    "train_df, valid_df = train_test_split(train_df, test_size=0.2, shuffle=True)\n",
    "print(train_df[\"label\"].value_counts())\n",
    "print(test_df[\"label\"].value_counts())"
   ]
  },
  {
   "cell_type": "code",
   "execution_count": 4,
   "metadata": {},
   "outputs": [],
   "source": [
    "import torch\n",
    "from transformers import AdamW, AutoTokenizer, AutoModelForMaskedLM, AutoModelForSequenceClassification\n",
    "from transformers import ElectraTokenizer, ElectraForSequenceClassification, BertJapaneseTokenizer, BertForSequenceClassification\n",
    "# model_path = \"cl-tohoku/bert-base-japanese\"\n",
    "model_path = \"izumi-lab/electra-base-japanese-discriminator\"\n",
    "# model_path = \"izumi-lab/electra-small-japanese-fin-discriminator\"\n",
    "\n"
   ]
  },
  {
   "cell_type": "code",
   "execution_count": 5,
   "metadata": {},
   "outputs": [
    {
     "name": "stderr",
     "output_type": "stream",
     "text": [
      "Some weights of the model checkpoint at izumi-lab/electra-base-japanese-discriminator were not used when initializing ElectraForSequenceClassification: ['discriminator_predictions.dense_prediction.bias', 'discriminator_predictions.dense.bias', 'discriminator_predictions.dense_prediction.weight', 'discriminator_predictions.dense.weight']\n",
      "- This IS expected if you are initializing ElectraForSequenceClassification from the checkpoint of a model trained on another task or with another architecture (e.g. initializing a BertForSequenceClassification model from a BertForPreTraining model).\n",
      "- This IS NOT expected if you are initializing ElectraForSequenceClassification from the checkpoint of a model that you expect to be exactly identical (initializing a BertForSequenceClassification model from a BertForSequenceClassification model).\n",
      "Some weights of ElectraForSequenceClassification were not initialized from the model checkpoint at izumi-lab/electra-base-japanese-discriminator and are newly initialized: ['classifier.dense.weight', 'classifier.out_proj.weight', 'classifier.out_proj.bias', 'classifier.dense.bias']\n",
      "You should probably TRAIN this model on a down-stream task to be able to use it for predictions and inference.\n"
     ]
    },
    {
     "name": "stdout",
     "output_type": "stream",
     "text": [
      "except last layer: ElectraClassificationHead(\n",
      "  (dense): Linear(in_features=768, out_features=768, bias=True)\n",
      "  (dropout): Dropout(p=0.1, inplace=False)\n",
      "  (out_proj): Linear(in_features=768, out_features=5, bias=True)\n",
      ")\n"
     ]
    }
   ],
   "source": [
    "tokenizer = BertJapaneseTokenizer.from_pretrained(model_path)\n",
    "model = AutoModelForSequenceClassification.from_pretrained(model_path, problem_type=\"multi_label_classification\", num_labels=lable_length, )\n",
    "\n",
    "# freeze layers except last layer\n",
    "for param in model.parameters():\n",
    "    param.requires_grad = False\n",
    "\n",
    "last_layer = list(model.children())[-1]\n",
    "print(f'except last layer: {last_layer}')\n",
    "for param in last_layer.parameters():\n",
    "    param.requires_grad = True"
   ]
  },
  {
   "cell_type": "code",
   "execution_count": 6,
   "metadata": {},
   "outputs": [],
   "source": [
    "max_len = 80\n",
    "train_encoding = tokenizer(train_df[\"text\"].to_list(), return_tensors=\"pt\",padding=True, truncation=True, max_length=max_len)\n",
    "valid_encoding = tokenizer(valid_df[\"text\"].to_list(), return_tensors=\"pt\",padding=True, truncation=True, max_length=max_len)\n",
    "test_encoding = tokenizer(test_df[\"text\"].to_list(), return_tensors=\"pt\",padding=True, truncation=True, max_length=max_len)"
   ]
  },
  {
   "cell_type": "code",
   "execution_count": 7,
   "metadata": {},
   "outputs": [],
   "source": [
    "train_label = torch.tensor(train_df[\"label\"].to_list())\n",
    "valid_label = torch.tensor(valid_df[\"label\"].to_list())\n",
    "test_label = torch.tensor(test_df[\"label\"].to_list())"
   ]
  },
  {
   "cell_type": "code",
   "execution_count": 8,
   "metadata": {},
   "outputs": [
    {
     "name": "stdout",
     "output_type": "stream",
     "text": [
      "tensor([1, 2, 3, 3, 3, 3, 3, 3, 3, 3, 3, 3, 3, 3, 3, 3, 3, 3, 3, 3, 3, 3, 3, 3,\n",
      "        3, 3, 3, 3, 3, 3, 3, 3, 3, 3, 3, 3, 3, 3, 3, 3, 3, 3, 3, 3, 3, 3, 3, 3,\n",
      "        3, 3])\n",
      "[CLS] [SEP] [PAD] [PAD] [PAD] [PAD] [PAD] [PAD] [PAD] [PAD] [PAD] [PAD] [PAD] [PAD] [PAD] [PAD] [PAD] [PAD] [PAD] [PAD] [PAD] [PAD] [PAD] [PAD] [PAD] [PAD] [PAD] [PAD] [PAD] [PAD] [PAD] [PAD] [PAD] [PAD] [PAD] [PAD] [PAD] [PAD] [PAD] [PAD] [PAD] [PAD] [PAD] [PAD] [PAD] [PAD] [PAD] [PAD] [PAD] [PAD]\n"
     ]
    }
   ],
   "source": [
    "# 0 番目 の 5 トーク ン までの ID を 表示\n",
    "print(train_encoding[\"input_ids\"][ 0][: 50]) \n",
    "# 0 番目 の 5 トーク ン までの トー クン を デコード し て 表示\n",
    "print(tokenizer.decode(train_encoding[\"input_ids\"][0][:50]))"
   ]
  },
  {
   "cell_type": "code",
   "execution_count": 9,
   "metadata": {},
   "outputs": [],
   "source": [
    "class CreateDataset(torch.utils.data.Dataset):\n",
    "    def __init__(self, encodings, labels):\n",
    "        self.encodings = encodings\n",
    "        self.labels = labels\n",
    "    \n",
    "    def __getitem__( self, idx):\n",
    "        item = {key:torch.tensor(val[idx]).clone().detach() for key, val in self.encodings.items()}\n",
    "        item['labels'] = torch.tensor(self.labels[idx], dtype=torch.float32).clone().detach()\n",
    "        return item\n",
    "    \n",
    "    def __len__( self):\n",
    "        return len(self.labels)\n",
    "\n",
    "train_dataset = CreateDataset(train_encoding, train_label)\n",
    "val_dataset = CreateDataset(valid_encoding, valid_label)\n",
    "test_dataset = CreateDataset(test_encoding, test_label)\n"
   ]
  },
  {
   "cell_type": "code",
   "execution_count": 10,
   "metadata": {},
   "outputs": [],
   "source": [
    "path = \"./model/IzumiElectraModel_multilabel_CrossEntropyLoss.pth\" \n",
    "def saveModel(): \n",
    "    torch.save(model.state_dict(), path)\n",
    "\n",
    "model = model.to(device)"
   ]
  },
  {
   "cell_type": "code",
   "execution_count": 11,
   "metadata": {},
   "outputs": [
    {
     "name": "stderr",
     "output_type": "stream",
     "text": [
      "e:\\anaconda_env\\nlp\\lib\\site-packages\\transformers\\optimization.py:306: FutureWarning: This implementation of AdamW is deprecated and will be removed in a future version. Use the PyTorch implementation torch.optim.AdamW instead, or set `no_deprecation_warning=True` to disable this warning\n",
      "  warnings.warn(\n",
      "  0%|          | 0/62 [00:00<?, ?it/s]C:\\Users\\windo\\AppData\\Local\\Temp\\ipykernel_45108\\825136160.py:7: UserWarning: To copy construct from a tensor, it is recommended to use sourceTensor.clone().detach() or sourceTensor.clone().detach().requires_grad_(True), rather than torch.tensor(sourceTensor).\n",
      "  item = {key:torch.tensor(val[idx]).clone().detach() for key, val in self.encodings.items()}\n",
      "C:\\Users\\windo\\AppData\\Local\\Temp\\ipykernel_45108\\825136160.py:8: UserWarning: To copy construct from a tensor, it is recommended to use sourceTensor.clone().detach() or sourceTensor.clone().detach().requires_grad_(True), rather than torch.tensor(sourceTensor).\n",
      "  item['labels'] = torch.tensor(self.labels[idx], dtype=torch.float32).clone().detach()\n",
      "100%|██████████| 62/62 [00:22<00:00,  2.73it/s]\n",
      "100%|██████████| 16/16 [00:05<00:00,  3.07it/s]\n"
     ]
    },
    {
     "name": "stdout",
     "output_type": "stream",
     "text": [
      "Completed training batch 0 Training Loss is: 1.2851 Validation Loss is: 1.2697 Accuracy is 76 %\n"
     ]
    },
    {
     "name": "stderr",
     "output_type": "stream",
     "text": [
      "100%|██████████| 62/62 [00:22<00:00,  2.81it/s]\n",
      "100%|██████████| 16/16 [00:05<00:00,  2.89it/s]\n"
     ]
    },
    {
     "name": "stdout",
     "output_type": "stream",
     "text": [
      "Completed training batch 1 Training Loss is: 1.2756 Validation Loss is: 1.2716 Accuracy is 76 %\n"
     ]
    },
    {
     "name": "stderr",
     "output_type": "stream",
     "text": [
      "100%|██████████| 62/62 [00:23<00:00,  2.65it/s]\n",
      "100%|██████████| 16/16 [00:05<00:00,  2.78it/s]\n"
     ]
    },
    {
     "name": "stdout",
     "output_type": "stream",
     "text": [
      "Completed training batch 2 Training Loss is: 1.2780 Validation Loss is: 1.2676 Accuracy is 76 %\n"
     ]
    },
    {
     "name": "stderr",
     "output_type": "stream",
     "text": [
      "100%|██████████| 62/62 [00:23<00:00,  2.63it/s]\n",
      "100%|██████████| 16/16 [00:05<00:00,  2.76it/s]\n"
     ]
    },
    {
     "name": "stdout",
     "output_type": "stream",
     "text": [
      "Completed training batch 3 Training Loss is: 1.2778 Validation Loss is: 1.2716 Accuracy is 76 %\n"
     ]
    },
    {
     "name": "stderr",
     "output_type": "stream",
     "text": [
      "100%|██████████| 62/62 [00:24<00:00,  2.58it/s]\n",
      "100%|██████████| 16/16 [00:05<00:00,  2.71it/s]\n"
     ]
    },
    {
     "name": "stdout",
     "output_type": "stream",
     "text": [
      "Completed training batch 4 Training Loss is: 1.2771 Validation Loss is: 1.2743 Accuracy is 76 %\n"
     ]
    },
    {
     "name": "stderr",
     "output_type": "stream",
     "text": [
      "100%|██████████| 62/62 [00:24<00:00,  2.54it/s]\n",
      "100%|██████████| 16/16 [00:05<00:00,  2.69it/s]\n"
     ]
    },
    {
     "name": "stdout",
     "output_type": "stream",
     "text": [
      "Completed training batch 5 Training Loss is: 1.2764 Validation Loss is: 1.2652 Accuracy is 76 %\n"
     ]
    },
    {
     "name": "stderr",
     "output_type": "stream",
     "text": [
      "100%|██████████| 62/62 [00:24<00:00,  2.53it/s]\n",
      "100%|██████████| 16/16 [00:06<00:00,  2.65it/s]\n"
     ]
    },
    {
     "name": "stdout",
     "output_type": "stream",
     "text": [
      "Completed training batch 6 Training Loss is: 1.2763 Validation Loss is: 1.2695 Accuracy is 76 %\n"
     ]
    },
    {
     "name": "stderr",
     "output_type": "stream",
     "text": [
      "100%|██████████| 62/62 [00:24<00:00,  2.51it/s]\n",
      "100%|██████████| 16/16 [00:06<00:00,  2.66it/s]\n"
     ]
    },
    {
     "name": "stdout",
     "output_type": "stream",
     "text": [
      "Completed training batch 7 Training Loss is: 1.2811 Validation Loss is: 1.2652 Accuracy is 76 %\n"
     ]
    },
    {
     "name": "stderr",
     "output_type": "stream",
     "text": [
      "100%|██████████| 62/62 [00:24<00:00,  2.50it/s]\n",
      "100%|██████████| 16/16 [00:06<00:00,  2.64it/s]\n"
     ]
    },
    {
     "name": "stdout",
     "output_type": "stream",
     "text": [
      "Completed training batch 8 Training Loss is: 1.2756 Validation Loss is: 1.2673 Accuracy is 76 %\n"
     ]
    },
    {
     "name": "stderr",
     "output_type": "stream",
     "text": [
      "100%|██████████| 62/62 [00:24<00:00,  2.49it/s]\n",
      "100%|██████████| 16/16 [00:06<00:00,  2.63it/s]\n"
     ]
    },
    {
     "name": "stdout",
     "output_type": "stream",
     "text": [
      "Completed training batch 9 Training Loss is: 1.2756 Validation Loss is: 1.2805 Accuracy is 76 %\n"
     ]
    },
    {
     "name": "stderr",
     "output_type": "stream",
     "text": [
      "100%|██████████| 62/62 [00:24<00:00,  2.48it/s]\n",
      "100%|██████████| 16/16 [00:06<00:00,  2.61it/s]\n"
     ]
    },
    {
     "name": "stdout",
     "output_type": "stream",
     "text": [
      "Completed training batch 10 Training Loss is: 1.2788 Validation Loss is: 1.2697 Accuracy is 76 %\n"
     ]
    },
    {
     "name": "stderr",
     "output_type": "stream",
     "text": [
      "100%|██████████| 62/62 [00:25<00:00,  2.47it/s]\n",
      "100%|██████████| 16/16 [00:06<00:00,  2.61it/s]\n"
     ]
    },
    {
     "name": "stdout",
     "output_type": "stream",
     "text": [
      "Completed training batch 11 Training Loss is: 1.2787 Validation Loss is: 1.2673 Accuracy is 76 %\n"
     ]
    },
    {
     "name": "stderr",
     "output_type": "stream",
     "text": [
      "100%|██████████| 62/62 [00:25<00:00,  2.47it/s]\n",
      "100%|██████████| 16/16 [00:06<00:00,  2.61it/s]\n"
     ]
    },
    {
     "name": "stdout",
     "output_type": "stream",
     "text": [
      "Completed training batch 12 Training Loss is: 1.2778 Validation Loss is: 1.2673 Accuracy is 76 %\n"
     ]
    },
    {
     "name": "stderr",
     "output_type": "stream",
     "text": [
      "100%|██████████| 62/62 [00:25<00:00,  2.46it/s]\n",
      "100%|██████████| 16/16 [00:06<00:00,  2.61it/s]\n"
     ]
    },
    {
     "name": "stdout",
     "output_type": "stream",
     "text": [
      "Completed training batch 13 Training Loss is: 1.2796 Validation Loss is: 1.2695 Accuracy is 76 %\n"
     ]
    },
    {
     "name": "stderr",
     "output_type": "stream",
     "text": [
      "100%|██████████| 62/62 [00:25<00:00,  2.46it/s]\n",
      "100%|██████████| 16/16 [00:06<00:00,  2.60it/s]\n"
     ]
    },
    {
     "name": "stdout",
     "output_type": "stream",
     "text": [
      "Completed training batch 14 Training Loss is: 1.2771 Validation Loss is: 1.2719 Accuracy is 76 %\n"
     ]
    },
    {
     "name": "stderr",
     "output_type": "stream",
     "text": [
      "100%|██████████| 62/62 [00:25<00:00,  2.46it/s]\n",
      "100%|██████████| 16/16 [00:06<00:00,  2.60it/s]\n"
     ]
    },
    {
     "name": "stdout",
     "output_type": "stream",
     "text": [
      "Completed training batch 15 Training Loss is: 1.2779 Validation Loss is: 1.2722 Accuracy is 76 %\n"
     ]
    },
    {
     "name": "stderr",
     "output_type": "stream",
     "text": [
      "100%|██████████| 62/62 [00:25<00:00,  2.46it/s]\n",
      "100%|██████████| 16/16 [00:06<00:00,  2.61it/s]\n"
     ]
    },
    {
     "name": "stdout",
     "output_type": "stream",
     "text": [
      "Completed training batch 16 Training Loss is: 1.2779 Validation Loss is: 1.2740 Accuracy is 76 %\n"
     ]
    },
    {
     "name": "stderr",
     "output_type": "stream",
     "text": [
      "100%|██████████| 62/62 [00:25<00:00,  2.46it/s]\n",
      "100%|██████████| 16/16 [00:06<00:00,  2.60it/s]\n"
     ]
    },
    {
     "name": "stdout",
     "output_type": "stream",
     "text": [
      "Completed training batch 17 Training Loss is: 1.2763 Validation Loss is: 1.2652 Accuracy is 76 %\n"
     ]
    },
    {
     "name": "stderr",
     "output_type": "stream",
     "text": [
      "100%|██████████| 62/62 [00:25<00:00,  2.45it/s]\n",
      "100%|██████████| 16/16 [00:06<00:00,  2.59it/s]\n"
     ]
    },
    {
     "name": "stdout",
     "output_type": "stream",
     "text": [
      "Completed training batch 18 Training Loss is: 1.2756 Validation Loss is: 1.2716 Accuracy is 76 %\n"
     ]
    },
    {
     "name": "stderr",
     "output_type": "stream",
     "text": [
      "100%|██████████| 62/62 [00:25<00:00,  2.45it/s]\n",
      "100%|██████████| 16/16 [00:06<00:00,  2.58it/s]\n"
     ]
    },
    {
     "name": "stdout",
     "output_type": "stream",
     "text": [
      "Completed training batch 19 Training Loss is: 1.2756 Validation Loss is: 1.2673 Accuracy is 76 %\n"
     ]
    },
    {
     "name": "stderr",
     "output_type": "stream",
     "text": [
      "100%|██████████| 62/62 [00:25<00:00,  2.46it/s]\n",
      "100%|██████████| 16/16 [00:06<00:00,  2.59it/s]\n"
     ]
    },
    {
     "name": "stdout",
     "output_type": "stream",
     "text": [
      "Completed training batch 20 Training Loss is: 1.2779 Validation Loss is: 1.2697 Accuracy is 76 %\n"
     ]
    },
    {
     "name": "stderr",
     "output_type": "stream",
     "text": [
      "100%|██████████| 62/62 [00:25<00:00,  2.45it/s]\n",
      "100%|██████████| 16/16 [00:06<00:00,  2.59it/s]\n"
     ]
    },
    {
     "name": "stdout",
     "output_type": "stream",
     "text": [
      "Completed training batch 21 Training Loss is: 1.2763 Validation Loss is: 1.2673 Accuracy is 76 %\n"
     ]
    },
    {
     "name": "stderr",
     "output_type": "stream",
     "text": [
      "100%|██████████| 62/62 [00:25<00:00,  2.46it/s]\n",
      "100%|██████████| 16/16 [00:06<00:00,  2.59it/s]\n"
     ]
    },
    {
     "name": "stdout",
     "output_type": "stream",
     "text": [
      "Completed training batch 22 Training Loss is: 1.2772 Validation Loss is: 1.2673 Accuracy is 76 %\n"
     ]
    },
    {
     "name": "stderr",
     "output_type": "stream",
     "text": [
      "100%|██████████| 62/62 [00:25<00:00,  2.45it/s]\n",
      "100%|██████████| 16/16 [00:06<00:00,  2.59it/s]\n"
     ]
    },
    {
     "name": "stdout",
     "output_type": "stream",
     "text": [
      "Completed training batch 23 Training Loss is: 1.2763 Validation Loss is: 1.2740 Accuracy is 76 %\n"
     ]
    },
    {
     "name": "stderr",
     "output_type": "stream",
     "text": [
      "100%|██████████| 62/62 [00:25<00:00,  2.45it/s]\n",
      "100%|██████████| 16/16 [00:06<00:00,  2.59it/s]\n"
     ]
    },
    {
     "name": "stdout",
     "output_type": "stream",
     "text": [
      "Completed training batch 24 Training Loss is: 1.2788 Validation Loss is: 1.2676 Accuracy is 76 %\n"
     ]
    },
    {
     "name": "stderr",
     "output_type": "stream",
     "text": [
      "100%|██████████| 62/62 [00:25<00:00,  2.45it/s]\n",
      "100%|██████████| 16/16 [00:06<00:00,  2.58it/s]\n"
     ]
    },
    {
     "name": "stdout",
     "output_type": "stream",
     "text": [
      "Completed training batch 25 Training Loss is: 1.2756 Validation Loss is: 1.2697 Accuracy is 76 %\n"
     ]
    },
    {
     "name": "stderr",
     "output_type": "stream",
     "text": [
      "100%|██████████| 62/62 [00:25<00:00,  2.45it/s]\n",
      "100%|██████████| 16/16 [00:06<00:00,  2.59it/s]\n"
     ]
    },
    {
     "name": "stdout",
     "output_type": "stream",
     "text": [
      "Completed training batch 26 Training Loss is: 1.2763 Validation Loss is: 1.2695 Accuracy is 76 %\n"
     ]
    },
    {
     "name": "stderr",
     "output_type": "stream",
     "text": [
      "100%|██████████| 62/62 [00:25<00:00,  2.45it/s]\n",
      "100%|██████████| 16/16 [00:06<00:00,  2.58it/s]\n"
     ]
    },
    {
     "name": "stdout",
     "output_type": "stream",
     "text": [
      "Completed training batch 27 Training Loss is: 1.2772 Validation Loss is: 1.2783 Accuracy is 76 %\n"
     ]
    },
    {
     "name": "stderr",
     "output_type": "stream",
     "text": [
      "100%|██████████| 62/62 [00:25<00:00,  2.44it/s]\n",
      "100%|██████████| 16/16 [00:06<00:00,  2.58it/s]\n"
     ]
    },
    {
     "name": "stdout",
     "output_type": "stream",
     "text": [
      "Completed training batch 28 Training Loss is: 1.2771 Validation Loss is: 1.2716 Accuracy is 76 %\n"
     ]
    },
    {
     "name": "stderr",
     "output_type": "stream",
     "text": [
      "100%|██████████| 62/62 [00:25<00:00,  2.45it/s]\n",
      "100%|██████████| 16/16 [00:06<00:00,  2.60it/s]"
     ]
    },
    {
     "name": "stdout",
     "output_type": "stream",
     "text": [
      "Completed training batch 29 Training Loss is: 1.2763 Validation Loss is: 1.2652 Accuracy is 76 %\n"
     ]
    },
    {
     "name": "stderr",
     "output_type": "stream",
     "text": [
      "\n"
     ]
    }
   ],
   "source": [
    "loss_fn_list = [torch.nn.CrossEntropyLoss(), torch.nn.BCELoss(), torch.nn.BCEWithLogitsLoss, torch.nn.MSELoss(), torch.nn.MultiLabelMarginLoss(), torch.nn.L1Loss()]\n",
    "loss_fn = loss_fn_list[0]\n",
    "sigmoid_fn = torch.nn.Sigmoid()\n",
    "train_loader = DataLoader(train_dataset, batch_size = 64, shuffle = True)\n",
    "validate_loader = DataLoader(val_dataset, batch_size = 64, shuffle = True)\n",
    "\n",
    "optimizer = AdamW(model.parameters(), lr=0.003)\n",
    "model.train()\n",
    "epochs = 30\n",
    "train_losses = []\n",
    "valid_losses = []\n",
    "acc_epoc = []\n",
    "best_accuracy = 0.0 \n",
    "\n",
    "th = 0.8\n",
    "\n",
    "#再学習\n",
    "for epoch in range(epochs):\n",
    "    running_train_loss = 0.0 \n",
    "    running_accuracy = 0.0 \n",
    "    running_vall_loss = 0.0 \n",
    "    total = 0 \n",
    "\n",
    "    # Training Loop \n",
    "    model.train()\n",
    "    for batch in tqdm(train_loader):\n",
    "        optimizer.zero_grad()\n",
    "        input_ids = batch['input_ids'].to(device)\n",
    "        attention_mask = batch['attention_mask'].to(device)\n",
    "        labels = batch['labels'].to(device)\n",
    "        outputs = model(input_ids, attention_mask = attention_mask)\n",
    "        logits = outputs.logits\n",
    "        loss = loss_fn(sigmoid_fn(logits), labels)\n",
    "        loss.backward()\n",
    "        optimizer.step()\n",
    "        \n",
    "        running_train_loss +=loss.item()\n",
    "\n",
    "    # Calculate training loss value \n",
    "    train_loss_value = running_train_loss/len(train_loader) \n",
    "    train_losses.append(train_loss_value)\n",
    "    \n",
    "    # Validation Loop \n",
    "    with torch.no_grad(): \n",
    "        model.eval() \n",
    "        for batch in tqdm(validate_loader): \n",
    "            input_ids = batch['input_ids'].to(device)\n",
    "            attention_mask = batch['attention_mask'].to(device)\n",
    "            labels = batch['labels']\n",
    "            outputs = model(input_ids, attention_mask = attention_mask)\n",
    "            logits = outputs.logits\n",
    "            val_loss = loss_fn(sigmoid_fn(logits).to('cpu'), labels)\n",
    "            \n",
    "            probs = sigmoid_fn(logits).to('cpu')\n",
    "\n",
    "            # The label with the highest value will be our prediction \n",
    "            #_, predicted = torch.max(logits, 1) \n",
    "            predicted = torch.where(probs > th, torch.ones(len(labels), lable_length), torch.zeros(len(labels), lable_length))\n",
    "            running_vall_loss += val_loss.item()\n",
    "            total += logits.size(0) * logits.size(1)\n",
    "            \n",
    "            running_accuracy += (predicted == labels).sum().item()\n",
    "\n",
    "    # Calculate validation loss value \n",
    "    val_loss_value = running_vall_loss/len(validate_loader)\n",
    "    valid_losses.append(val_loss_value)\n",
    "            \n",
    "    # Calculate accuracy as the number of correct predictions in the validation batch divided by the total number of predictions done.  \n",
    "    accuracy = (100 * running_accuracy / total)\n",
    "    acc_epoc.append(accuracy)    \n",
    "\n",
    "    # Save the model if the accuracy is the best \n",
    "    if accuracy > best_accuracy: \n",
    "        saveModel() \n",
    "        best_accuracy = accuracy\n",
    "\n",
    "    print('Completed training batch', epoch, 'Training Loss is: %.4f' %train_loss_value, 'Validation Loss is: %.4f' %val_loss_value, 'Accuracy is %d %%' % (accuracy))"
   ]
  },
  {
   "cell_type": "code",
   "execution_count": 12,
   "metadata": {},
   "outputs": [
    {
     "data": {
      "image/png": "[encoded data removed]",
      "text/plain": [
       "<Figure size 432x288 with 1 Axes>"
      ]
     },
     "metadata": {
      "needs_background": "light"
     },
     "output_type": "display_data"
    },
    {
     "data": {
      "image/png": "[encoded data removed]",
      "text/plain": [
       "<Figure size 432x288 with 1 Axes>"
      ]
     },
     "metadata": {
      "needs_background": "light"
     },
     "output_type": "display_data"
    },
    {
     "data": {
      "image/png": "[encoded data removed]",
      "text/plain": [
       "<Figure size 432x288 with 1 Axes>"
      ]
     },
     "metadata": {
      "needs_background": "light"
     },
     "output_type": "display_data"
    }
   ],
   "source": [
    "import matplotlib.pyplot as plt\n",
    "import seaborn as sns\n",
    "losses_ = [loss for loss in train_losses]\n",
    "plt.plot(losses_)\n",
    "plt.show()\n",
    "\n",
    "losses_ = [loss for loss in valid_losses]\n",
    "plt.plot(losses_)\n",
    "plt.show()\n",
    "\n",
    "losses_ = [loss for loss in acc_epoc]\n",
    "plt.plot(losses_)\n",
    "plt.show()\n"
   ]
  },
  {
   "cell_type": "code",
   "execution_count": 13,
   "metadata": {},
   "outputs": [
    {
     "name": "stderr",
     "output_type": "stream",
     "text": [
      "100%|██████████| 2100/2100 [00:25<00:00, 82.28it/s]\n"
     ]
    }
   ],
   "source": [
    "model.load_state_dict(torch.load(path))\n",
    "model.to(device)\n",
    "model.eval()\n",
    "preds = []\n",
    "sigmoid_fn = torch.nn.Sigmoid()\n",
    "with torch.no_grad():\n",
    "    for text in tqdm(test_df[\"text\"].to_list()):\n",
    "        inputs = tokenizer.encode(text, return_tensors=\"pt\",padding=True, truncation=True, max_length=80).to(device)\n",
    "        outputs = model(inputs)\n",
    "        logits = outputs.logits\n",
    "        \n",
    "        probs = sigmoid_fn(logits).to('cpu')\n",
    "        preds.append(probs)"
   ]
  },
  {
   "cell_type": "code",
   "execution_count": 14,
   "metadata": {},
   "outputs": [
    {
     "name": "stderr",
     "output_type": "stream",
     "text": [
      "100%|██████████| 2100/2100 [00:00<00:00, 17414.93it/s]"
     ]
    },
    {
     "name": "stdout",
     "output_type": "stream",
     "text": [
      "Acc: 77.4%\n"
     ]
    },
    {
     "name": "stderr",
     "output_type": "stream",
     "text": [
      "\n"
     ]
    }
   ],
   "source": [
    "correct_cnt = 0\n",
    "th = 0.4\n",
    "test_label = test_df[\"label\"].to_list()\n",
    "for idx in tqdm(range(len(preds))):\n",
    "    pred = preds[idx]\n",
    "    predicted = torch.where(pred > th, torch.ones(1, lable_length), torch.zeros(1, lable_length))\n",
    "    ans_label = torch.tensor(test_label[idx])\n",
    "\n",
    "    correct_cnt += (predicted == ans_label).sum().item()\n",
    "    \n",
    "acc = 100 * correct_cnt / (len(preds)*5)\n",
    "print(f\"Acc: {acc}%\")"
   ]
  },
  {
   "cell_type": "code",
   "execution_count": 15,
   "metadata": {},
   "outputs": [
    {
     "data": {
      "text/plain": [
       "'./log/IzumiElectraModel_multilabel_CrossEntropyLoss.pkl'"
      ]
     },
     "execution_count": 15,
     "metadata": {},
     "output_type": "execute_result"
    }
   ],
   "source": [
    "output_info = {\n",
    "    \"train_losses\": train_losses,\n",
    "    \"valid_loss\": val_loss,\n",
    "    \"eopc_acc\": acc_epoc,\n",
    "}\n",
    "log_path = path.replace(\"model\", \"log\").replace(\".pth\", \".pkl\")\n",
    "\n",
    "import pickle\n",
    "with open(log_path, 'wb') as f:\n",
    "  pickle.dump(output_info , f)\n",
    "\n",
    "log_path"
   ]
  }
 ],
 "metadata": {
  "kernelspec": {
   "display_name": "Python 3.9.13 ('nlp')",
   "language": "python",
   "name": "python3"
  },
  "language_info": {
   "codemirror_mode": {
    "name": "ipython",
    "version": 3
   },
   "file_extension": ".py",
   "mimetype": "text/x-python",
   "name": "python",
   "nbconvert_exporter": "python",
   "pygments_lexer": "ipython3",
   "version": "3.9.13"
  },
  "orig_nbformat": 4,
  "vscode": {
   "interpreter": {
    "hash": "5955dc64dc45c9f6ad89241066402e9b90de6090510d28e2354caffb11d22191"
   }
  }
 },
 "nbformat": 4,
 "nbformat_minor": 2
}

{
 "cells": [
  {
   "cell_type": "markdown",
   "metadata": {},
   "source": [
    "参考: https://qiita.com/sugulu_Ogawa_ISID/items/697bd03499c1de9cf082"
   ]
  },
  {
   "cell_type": "code",
   "execution_count": 1,
   "metadata": {},
   "outputs": [
    {
     "name": "stderr",
     "output_type": "stream",
     "text": [
      "e:\\anaconda_env\\nlp\\lib\\site-packages\\tqdm\\auto.py:22: TqdmWarning: IProgress not found. Please update jupyter and ipywidgets. See https://ipywidgets.readthedocs.io/en/stable/user_install.html\n",
      "  from .autonotebook import tqdm as notebook_tqdm\n"
     ]
    },
    {
     "name": "stdout",
     "output_type": "stream",
     "text": [
      "1.11.0+cu113\n"
     ]
    },
    {
     "data": {
      "text/plain": [
       "device(type='cuda')"
      ]
     },
     "execution_count": 1,
     "metadata": {},
     "output_type": "execute_result"
    }
   ],
   "source": [
    "import pandas as pd\n",
    "import numpy as np\n",
    "from sklearn.model_selection import train_test_split\n",
    "from tqdm import tqdm\n",
    "import torch\n",
    "from torch.utils.data import DataLoader\n",
    "import matplotlib.pyplot as plt\n",
    "import seaborn as sns\n",
    "\n",
    "print(torch.__version__)\n",
    "device = torch.device('cuda') if torch.cuda.is_available() else torch.device('cpu')\n",
    "device"
   ]
  },
  {
   "cell_type": "code",
   "execution_count": 2,
   "metadata": {},
   "outputs": [
    {
     "data": {
      "text/plain": [
       "<bound method NDFrame.head of                                                    text  label\n",
       "0     Peachyでも大人気の「恋愛」をテーマにした記事の週間ランキングです！2012年6月21日...      5\n",
       "1     値下げや利用可能国が拡大！テレコムスクエアは1日、ポストペイドタイプの海外向けSIMカード「...      6\n",
       "2     ４月。新しい年度を迎え、新しい顧客の開拓、新しい取引先、新しい上司や同僚。エネルギーに満ち溢...      3\n",
       "3     Xperia GXが発表！ソニーモバイルコミュニケーションズは9日、国内向けとして2012年...      6\n",
       "4     1月も後半に入り、バレンタインデーの話題も増えてきた今日この頃。皆さんはチョコを贈る相手、決...      5\n",
       "...                                                 ...    ...\n",
       "1470  今週末26日、さいたまスーパーアリーナで開催される世界最高峰の総合格闘技イベント＝UFC日本...      7\n",
       "1471  名番組「突撃！隣の晩ごはん」のヨネスケが、今度は「OLの昼ごはん」をレポートする。華やかな企...      0\n",
       "1472  新年度を迎え、周りの環境も変わると、職場や取引先でも新しい出会いが増えるこの季節。名刺交換中...      5\n",
       "1473  5日深夜、アルガルベカップで、宿敵アメリカ代表からはじめて勝利を挙げたサッカー女子日本代表＝...      7\n",
       "1474  「男子厨房に入らず」—。「弁当男子」なんて言葉も登場している現代では、死語と言えるだろう。で...      0\n",
       "\n",
       "[1475 rows x 2 columns]>"
      ]
     },
     "execution_count": 2,
     "metadata": {},
     "output_type": "execute_result"
    }
   ],
   "source": [
    "train_df = pd.read_csv(\"train_eval.tsv\", sep=\"\\t\",  names=('text', 'label'))\n",
    "test_df = pd.read_csv(\"test.tsv\", sep=\"\\t\",  names=('text', 'label'))\n",
    "\n",
    "test_df.head"
   ]
  },
  {
   "cell_type": "code",
   "execution_count": 3,
   "metadata": {},
   "outputs": [
    {
     "data": {
      "text/plain": [
       "0    871\n",
       "1    871\n",
       "2    865\n",
       "3    512\n",
       "4    871\n",
       "5    843\n",
       "6    871\n",
       "7    901\n",
       "8    771\n",
       "Name: label, dtype: int64"
      ]
     },
     "execution_count": 3,
     "metadata": {},
     "output_type": "execute_result"
    }
   ],
   "source": [
    "# データのカウント\n",
    "label_list = train_df[\"label\"].unique()\n",
    "train_df[\"label\"].value_counts() + test_df[\"label\"].value_counts()\n"
   ]
  },
  {
   "cell_type": "code",
   "execution_count": 4,
   "metadata": {},
   "outputs": [],
   "source": [
    "train_df, valid_df = train_test_split(train_df, test_size=0.2, shuffle=False)"
   ]
  },
  {
   "cell_type": "code",
   "execution_count": 5,
   "metadata": {},
   "outputs": [],
   "source": [
    "import torch\n",
    "from transformers import AdamW, AutoTokenizer, AutoModelForMaskedLM, AutoModelForSequenceClassification\n",
    "from transformers import ElectraTokenizer, ElectraForSequenceClassification, BertJapaneseTokenizer\n",
    "# model_path = \"cl-tohoku/bert-base-japanese\"\n",
    "model_path = \"izumi-lab/electra-base-japanese-discriminator\"\n",
    "# model_path = \"izumi-lab/electra-small-japanese-fin-discriminator\"\n"
   ]
  },
  {
   "cell_type": "code",
   "execution_count": 6,
   "metadata": {},
   "outputs": [
    {
     "name": "stderr",
     "output_type": "stream",
     "text": [
      "Some weights of the model checkpoint at izumi-lab/electra-base-japanese-discriminator were not used when initializing ElectraForSequenceClassification: ['discriminator_predictions.dense.weight', 'discriminator_predictions.dense_prediction.weight', 'discriminator_predictions.dense_prediction.bias', 'discriminator_predictions.dense.bias']\n",
      "- This IS expected if you are initializing ElectraForSequenceClassification from the checkpoint of a model trained on another task or with another architecture (e.g. initializing a BertForSequenceClassification model from a BertForPreTraining model).\n",
      "- This IS NOT expected if you are initializing ElectraForSequenceClassification from the checkpoint of a model that you expect to be exactly identical (initializing a BertForSequenceClassification model from a BertForSequenceClassification model).\n",
      "Some weights of ElectraForSequenceClassification were not initialized from the model checkpoint at izumi-lab/electra-base-japanese-discriminator and are newly initialized: ['classifier.out_proj.weight', 'classifier.dense.bias', 'classifier.out_proj.bias', 'classifier.dense.weight']\n",
      "You should probably TRAIN this model on a down-stream task to be able to use it for predictions and inference.\n"
     ]
    },
    {
     "data": {
      "text/plain": [
       "ElectraForSequenceClassification(\n",
       "  (electra): ElectraModel(\n",
       "    (embeddings): ElectraEmbeddings(\n",
       "      (word_embeddings): Embedding(32768, 768, padding_idx=0)\n",
       "      (position_embeddings): Embedding(512, 768)\n",
       "      (token_type_embeddings): Embedding(2, 768)\n",
       "      (LayerNorm): LayerNorm((768,), eps=1e-12, elementwise_affine=True)\n",
       "      (dropout): Dropout(p=0.1, inplace=False)\n",
       "    )\n",
       "    (encoder): ElectraEncoder(\n",
       "      (layer): ModuleList(\n",
       "        (0): ElectraLayer(\n",
       "          (attention): ElectraAttention(\n",
       "            (self): ElectraSelfAttention(\n",
       "              (query): Linear(in_features=768, out_features=768, bias=True)\n",
       "              (key): Linear(in_features=768, out_features=768, bias=True)\n",
       "              (value): Linear(in_features=768, out_features=768, bias=True)\n",
       "              (dropout): Dropout(p=0.1, inplace=False)\n",
       "            )\n",
       "            (output): ElectraSelfOutput(\n",
       "              (dense): Linear(in_features=768, out_features=768, bias=True)\n",
       "              (LayerNorm): LayerNorm((768,), eps=1e-12, elementwise_affine=True)\n",
       "              (dropout): Dropout(p=0.1, inplace=False)\n",
       "            )\n",
       "          )\n",
       "          (intermediate): ElectraIntermediate(\n",
       "            (dense): Linear(in_features=768, out_features=3072, bias=True)\n",
       "            (intermediate_act_fn): GELUActivation()\n",
       "          )\n",
       "          (output): ElectraOutput(\n",
       "            (dense): Linear(in_features=3072, out_features=768, bias=True)\n",
       "            (LayerNorm): LayerNorm((768,), eps=1e-12, elementwise_affine=True)\n",
       "            (dropout): Dropout(p=0.1, inplace=False)\n",
       "          )\n",
       "        )\n",
       "        (1): ElectraLayer(\n",
       "          (attention): ElectraAttention(\n",
       "            (self): ElectraSelfAttention(\n",
       "              (query): Linear(in_features=768, out_features=768, bias=True)\n",
       "              (key): Linear(in_features=768, out_features=768, bias=True)\n",
       "              (value): Linear(in_features=768, out_features=768, bias=True)\n",
       "              (dropout): Dropout(p=0.1, inplace=False)\n",
       "            )\n",
       "            (output): ElectraSelfOutput(\n",
       "              (dense): Linear(in_features=768, out_features=768, bias=True)\n",
       "              (LayerNorm): LayerNorm((768,), eps=1e-12, elementwise_affine=True)\n",
       "              (dropout): Dropout(p=0.1, inplace=False)\n",
       "            )\n",
       "          )\n",
       "          (intermediate): ElectraIntermediate(\n",
       "            (dense): Linear(in_features=768, out_features=3072, bias=True)\n",
       "            (intermediate_act_fn): GELUActivation()\n",
       "          )\n",
       "          (output): ElectraOutput(\n",
       "            (dense): Linear(in_features=3072, out_features=768, bias=True)\n",
       "            (LayerNorm): LayerNorm((768,), eps=1e-12, elementwise_affine=True)\n",
       "            (dropout): Dropout(p=0.1, inplace=False)\n",
       "          )\n",
       "        )\n",
       "        (2): ElectraLayer(\n",
       "          (attention): ElectraAttention(\n",
       "            (self): ElectraSelfAttention(\n",
       "              (query): Linear(in_features=768, out_features=768, bias=True)\n",
       "              (key): Linear(in_features=768, out_features=768, bias=True)\n",
       "              (value): Linear(in_features=768, out_features=768, bias=True)\n",
       "              (dropout): Dropout(p=0.1, inplace=False)\n",
       "            )\n",
       "            (output): ElectraSelfOutput(\n",
       "              (dense): Linear(in_features=768, out_features=768, bias=True)\n",
       "              (LayerNorm): LayerNorm((768,), eps=1e-12, elementwise_affine=True)\n",
       "              (dropout): Dropout(p=0.1, inplace=False)\n",
       "            )\n",
       "          )\n",
       "          (intermediate): ElectraIntermediate(\n",
       "            (dense): Linear(in_features=768, out_features=3072, bias=True)\n",
       "            (intermediate_act_fn): GELUActivation()\n",
       "          )\n",
       "          (output): ElectraOutput(\n",
       "            (dense): Linear(in_features=3072, out_features=768, bias=True)\n",
       "            (LayerNorm): LayerNorm((768,), eps=1e-12, elementwise_affine=True)\n",
       "            (dropout): Dropout(p=0.1, inplace=False)\n",
       "          )\n",
       "        )\n",
       "        (3): ElectraLayer(\n",
       "          (attention): ElectraAttention(\n",
       "            (self): ElectraSelfAttention(\n",
       "              (query): Linear(in_features=768, out_features=768, bias=True)\n",
       "              (key): Linear(in_features=768, out_features=768, bias=True)\n",
       "              (value): Linear(in_features=768, out_features=768, bias=True)\n",
       "              (dropout): Dropout(p=0.1, inplace=False)\n",
       "            )\n",
       "            (output): ElectraSelfOutput(\n",
       "              (dense): Linear(in_features=768, out_features=768, bias=True)\n",
       "              (LayerNorm): LayerNorm((768,), eps=1e-12, elementwise_affine=True)\n",
       "              (dropout): Dropout(p=0.1, inplace=False)\n",
       "            )\n",
       "          )\n",
       "          (intermediate): ElectraIntermediate(\n",
       "            (dense): Linear(in_features=768, out_features=3072, bias=True)\n",
       "            (intermediate_act_fn): GELUActivation()\n",
       "          )\n",
       "          (output): ElectraOutput(\n",
       "            (dense): Linear(in_features=3072, out_features=768, bias=True)\n",
       "            (LayerNorm): LayerNorm((768,), eps=1e-12, elementwise_affine=True)\n",
       "            (dropout): Dropout(p=0.1, inplace=False)\n",
       "          )\n",
       "        )\n",
       "        (4): ElectraLayer(\n",
       "          (attention): ElectraAttention(\n",
       "            (self): ElectraSelfAttention(\n",
       "              (query): Linear(in_features=768, out_features=768, bias=True)\n",
       "              (key): Linear(in_features=768, out_features=768, bias=True)\n",
       "              (value): Linear(in_features=768, out_features=768, bias=True)\n",
       "              (dropout): Dropout(p=0.1, inplace=False)\n",
       "            )\n",
       "            (output): ElectraSelfOutput(\n",
       "              (dense): Linear(in_features=768, out_features=768, bias=True)\n",
       "              (LayerNorm): LayerNorm((768,), eps=1e-12, elementwise_affine=True)\n",
       "              (dropout): Dropout(p=0.1, inplace=False)\n",
       "            )\n",
       "          )\n",
       "          (intermediate): ElectraIntermediate(\n",
       "            (dense): Linear(in_features=768, out_features=3072, bias=True)\n",
       "            (intermediate_act_fn): GELUActivation()\n",
       "          )\n",
       "          (output): ElectraOutput(\n",
       "            (dense): Linear(in_features=3072, out_features=768, bias=True)\n",
       "            (LayerNorm): LayerNorm((768,), eps=1e-12, elementwise_affine=True)\n",
       "            (dropout): Dropout(p=0.1, inplace=False)\n",
       "          )\n",
       "        )\n",
       "        (5): ElectraLayer(\n",
       "          (attention): ElectraAttention(\n",
       "            (self): ElectraSelfAttention(\n",
       "              (query): Linear(in_features=768, out_features=768, bias=True)\n",
       "              (key): Linear(in_features=768, out_features=768, bias=True)\n",
       "              (value): Linear(in_features=768, out_features=768, bias=True)\n",
       "              (dropout): Dropout(p=0.1, inplace=False)\n",
       "            )\n",
       "            (output): ElectraSelfOutput(\n",
       "              (dense): Linear(in_features=768, out_features=768, bias=True)\n",
       "              (LayerNorm): LayerNorm((768,), eps=1e-12, elementwise_affine=True)\n",
       "              (dropout): Dropout(p=0.1, inplace=False)\n",
       "            )\n",
       "          )\n",
       "          (intermediate): ElectraIntermediate(\n",
       "            (dense): Linear(in_features=768, out_features=3072, bias=True)\n",
       "            (intermediate_act_fn): GELUActivation()\n",
       "          )\n",
       "          (output): ElectraOutput(\n",
       "            (dense): Linear(in_features=3072, out_features=768, bias=True)\n",
       "            (LayerNorm): LayerNorm((768,), eps=1e-12, elementwise_affine=True)\n",
       "            (dropout): Dropout(p=0.1, inplace=False)\n",
       "          )\n",
       "        )\n",
       "        (6): ElectraLayer(\n",
       "          (attention): ElectraAttention(\n",
       "            (self): ElectraSelfAttention(\n",
       "              (query): Linear(in_features=768, out_features=768, bias=True)\n",
       "              (key): Linear(in_features=768, out_features=768, bias=True)\n",
       "              (value): Linear(in_features=768, out_features=768, bias=True)\n",
       "              (dropout): Dropout(p=0.1, inplace=False)\n",
       "            )\n",
       "            (output): ElectraSelfOutput(\n",
       "              (dense): Linear(in_features=768, out_features=768, bias=True)\n",
       "              (LayerNorm): LayerNorm((768,), eps=1e-12, elementwise_affine=True)\n",
       "              (dropout): Dropout(p=0.1, inplace=False)\n",
       "            )\n",
       "          )\n",
       "          (intermediate): ElectraIntermediate(\n",
       "            (dense): Linear(in_features=768, out_features=3072, bias=True)\n",
       "            (intermediate_act_fn): GELUActivation()\n",
       "          )\n",
       "          (output): ElectraOutput(\n",
       "            (dense): Linear(in_features=3072, out_features=768, bias=True)\n",
       "            (LayerNorm): LayerNorm((768,), eps=1e-12, elementwise_affine=True)\n",
       "            (dropout): Dropout(p=0.1, inplace=False)\n",
       "          )\n",
       "        )\n",
       "        (7): ElectraLayer(\n",
       "          (attention): ElectraAttention(\n",
       "            (self): ElectraSelfAttention(\n",
       "              (query): Linear(in_features=768, out_features=768, bias=True)\n",
       "              (key): Linear(in_features=768, out_features=768, bias=True)\n",
       "              (value): Linear(in_features=768, out_features=768, bias=True)\n",
       "              (dropout): Dropout(p=0.1, inplace=False)\n",
       "            )\n",
       "            (output): ElectraSelfOutput(\n",
       "              (dense): Linear(in_features=768, out_features=768, bias=True)\n",
       "              (LayerNorm): LayerNorm((768,), eps=1e-12, elementwise_affine=True)\n",
       "              (dropout): Dropout(p=0.1, inplace=False)\n",
       "            )\n",
       "          )\n",
       "          (intermediate): ElectraIntermediate(\n",
       "            (dense): Linear(in_features=768, out_features=3072, bias=True)\n",
       "            (intermediate_act_fn): GELUActivation()\n",
       "          )\n",
       "          (output): ElectraOutput(\n",
       "            (dense): Linear(in_features=3072, out_features=768, bias=True)\n",
       "            (LayerNorm): LayerNorm((768,), eps=1e-12, elementwise_affine=True)\n",
       "            (dropout): Dropout(p=0.1, inplace=False)\n",
       "          )\n",
       "        )\n",
       "        (8): ElectraLayer(\n",
       "          (attention): ElectraAttention(\n",
       "            (self): ElectraSelfAttention(\n",
       "              (query): Linear(in_features=768, out_features=768, bias=True)\n",
       "              (key): Linear(in_features=768, out_features=768, bias=True)\n",
       "              (value): Linear(in_features=768, out_features=768, bias=True)\n",
       "              (dropout): Dropout(p=0.1, inplace=False)\n",
       "            )\n",
       "            (output): ElectraSelfOutput(\n",
       "              (dense): Linear(in_features=768, out_features=768, bias=True)\n",
       "              (LayerNorm): LayerNorm((768,), eps=1e-12, elementwise_affine=True)\n",
       "              (dropout): Dropout(p=0.1, inplace=False)\n",
       "            )\n",
       "          )\n",
       "          (intermediate): ElectraIntermediate(\n",
       "            (dense): Linear(in_features=768, out_features=3072, bias=True)\n",
       "            (intermediate_act_fn): GELUActivation()\n",
       "          )\n",
       "          (output): ElectraOutput(\n",
       "            (dense): Linear(in_features=3072, out_features=768, bias=True)\n",
       "            (LayerNorm): LayerNorm((768,), eps=1e-12, elementwise_affine=True)\n",
       "            (dropout): Dropout(p=0.1, inplace=False)\n",
       "          )\n",
       "        )\n",
       "        (9): ElectraLayer(\n",
       "          (attention): ElectraAttention(\n",
       "            (self): ElectraSelfAttention(\n",
       "              (query): Linear(in_features=768, out_features=768, bias=True)\n",
       "              (key): Linear(in_features=768, out_features=768, bias=True)\n",
       "              (value): Linear(in_features=768, out_features=768, bias=True)\n",
       "              (dropout): Dropout(p=0.1, inplace=False)\n",
       "            )\n",
       "            (output): ElectraSelfOutput(\n",
       "              (dense): Linear(in_features=768, out_features=768, bias=True)\n",
       "              (LayerNorm): LayerNorm((768,), eps=1e-12, elementwise_affine=True)\n",
       "              (dropout): Dropout(p=0.1, inplace=False)\n",
       "            )\n",
       "          )\n",
       "          (intermediate): ElectraIntermediate(\n",
       "            (dense): Linear(in_features=768, out_features=3072, bias=True)\n",
       "            (intermediate_act_fn): GELUActivation()\n",
       "          )\n",
       "          (output): ElectraOutput(\n",
       "            (dense): Linear(in_features=3072, out_features=768, bias=True)\n",
       "            (LayerNorm): LayerNorm((768,), eps=1e-12, elementwise_affine=True)\n",
       "            (dropout): Dropout(p=0.1, inplace=False)\n",
       "          )\n",
       "        )\n",
       "        (10): ElectraLayer(\n",
       "          (attention): ElectraAttention(\n",
       "            (self): ElectraSelfAttention(\n",
       "              (query): Linear(in_features=768, out_features=768, bias=True)\n",
       "              (key): Linear(in_features=768, out_features=768, bias=True)\n",
       "              (value): Linear(in_features=768, out_features=768, bias=True)\n",
       "              (dropout): Dropout(p=0.1, inplace=False)\n",
       "            )\n",
       "            (output): ElectraSelfOutput(\n",
       "              (dense): Linear(in_features=768, out_features=768, bias=True)\n",
       "              (LayerNorm): LayerNorm((768,), eps=1e-12, elementwise_affine=True)\n",
       "              (dropout): Dropout(p=0.1, inplace=False)\n",
       "            )\n",
       "          )\n",
       "          (intermediate): ElectraIntermediate(\n",
       "            (dense): Linear(in_features=768, out_features=3072, bias=True)\n",
       "            (intermediate_act_fn): GELUActivation()\n",
       "          )\n",
       "          (output): ElectraOutput(\n",
       "            (dense): Linear(in_features=3072, out_features=768, bias=True)\n",
       "            (LayerNorm): LayerNorm((768,), eps=1e-12, elementwise_affine=True)\n",
       "            (dropout): Dropout(p=0.1, inplace=False)\n",
       "          )\n",
       "        )\n",
       "        (11): ElectraLayer(\n",
       "          (attention): ElectraAttention(\n",
       "            (self): ElectraSelfAttention(\n",
       "              (query): Linear(in_features=768, out_features=768, bias=True)\n",
       "              (key): Linear(in_features=768, out_features=768, bias=True)\n",
       "              (value): Linear(in_features=768, out_features=768, bias=True)\n",
       "              (dropout): Dropout(p=0.1, inplace=False)\n",
       "            )\n",
       "            (output): ElectraSelfOutput(\n",
       "              (dense): Linear(in_features=768, out_features=768, bias=True)\n",
       "              (LayerNorm): LayerNorm((768,), eps=1e-12, elementwise_affine=True)\n",
       "              (dropout): Dropout(p=0.1, inplace=False)\n",
       "            )\n",
       "          )\n",
       "          (intermediate): ElectraIntermediate(\n",
       "            (dense): Linear(in_features=768, out_features=3072, bias=True)\n",
       "            (intermediate_act_fn): GELUActivation()\n",
       "          )\n",
       "          (output): ElectraOutput(\n",
       "            (dense): Linear(in_features=3072, out_features=768, bias=True)\n",
       "            (LayerNorm): LayerNorm((768,), eps=1e-12, elementwise_affine=True)\n",
       "            (dropout): Dropout(p=0.1, inplace=False)\n",
       "          )\n",
       "        )\n",
       "      )\n",
       "    )\n",
       "  )\n",
       "  (classifier): ElectraClassificationHead(\n",
       "    (dense): Linear(in_features=768, out_features=768, bias=True)\n",
       "    (dropout): Dropout(p=0.1, inplace=False)\n",
       "    (out_proj): Linear(in_features=768, out_features=9, bias=True)\n",
       "  )\n",
       ")"
      ]
     },
     "execution_count": 6,
     "metadata": {},
     "output_type": "execute_result"
    }
   ],
   "source": [
    "tokenizer = BertJapaneseTokenizer.from_pretrained(model_path)\n",
    "model = ElectraForSequenceClassification.from_pretrained(model_path, num_labels=len(label_list))\n",
    "model"
   ]
  },
  {
   "cell_type": "code",
   "execution_count": 8,
   "metadata": {},
   "outputs": [],
   "source": [
    "max_len = 512\n",
    "# train_encoding = tokenizer(train_df[\"text\"].to_list(), return_tensors=\"pt\",padding=True, truncation=True, max_length=max_len)\n",
    "# valid_encoding = tokenizer(valid_df[\"text\"].to_list(), return_tensors=\"pt\",padding=True, truncation=True, max_length=max_len)\n",
    "test_encoding = tokenizer(test_df[\"text\"].to_list(), return_tensors=\"pt\",padding=True, truncation=True, max_length=max_len)"
   ]
  },
  {
   "cell_type": "code",
   "execution_count": 11,
   "metadata": {},
   "outputs": [
    {
     "data": {
      "text/plain": [
       "{'input_ids': tensor([[    1, 14041,   754, 13335, 21120, 13465,   733,     2]]), 'token_type_ids': tensor([[0, 0, 0, 0, 0, 0, 0, 0]]), 'attention_mask': tensor([[1, 1, 1, 1, 1, 1, 1, 1]])}"
      ]
     },
     "execution_count": 11,
     "metadata": {},
     "output_type": "execute_result"
    }
   ],
   "source": [
    "text = \"今日もいい天気ですね\"\n",
    "test_encoding = tokenizer(text, return_tensors=\"pt\",padding=True, truncation=True, max_length=9)"
   ]
  },
  {
   "cell_type": "code",
   "execution_count": 13,
   "metadata": {},
   "outputs": [
    {
     "ename": "TypeError",
     "evalue": "int() argument must be a string, a bytes-like object or a number, not 'list'",
     "output_type": "error",
     "traceback": [
      "\u001b[1;31m---------------------------------------------------------------------------\u001b[0m",
      "\u001b[1;31mTypeError\u001b[0m                                 Traceback (most recent call last)",
      "\u001b[1;32mセル10 を e:\\workspace\\news_classification\\run_electra_only_test.ipynb\u001b[0m in \u001b[0;36m<cell line: 1>\u001b[1;34m()\u001b[0m\n\u001b[1;32m----> <a href='vscode-notebook-cell:/e%3A/workspace/news_classification/run_electra_only_test.ipynb#ch0000019?line=0'>1</a>\u001b[0m tokenizer\u001b[39m.\u001b[39;49mdecode(test_encoding\u001b[39m.\u001b[39;49minput_ids)\n\u001b[0;32m      <a href='vscode-notebook-cell:/e%3A/workspace/news_classification/run_electra_only_test.ipynb#ch0000019?line=1'>2</a>\u001b[0m \u001b[39mprint\u001b[39m(test_encoding)\n",
      "File \u001b[1;32me:\\anaconda_env\\nlp\\lib\\site-packages\\transformers\\tokenization_utils_base.py:3345\u001b[0m, in \u001b[0;36mPreTrainedTokenizerBase.decode\u001b[1;34m(self, token_ids, skip_special_tokens, clean_up_tokenization_spaces, **kwargs)\u001b[0m\n\u001b[0;32m   3342\u001b[0m \u001b[39m# Convert inputs to python lists\u001b[39;00m\n\u001b[0;32m   3343\u001b[0m token_ids \u001b[39m=\u001b[39m to_py_obj(token_ids)\n\u001b[1;32m-> 3345\u001b[0m \u001b[39mreturn\u001b[39;00m \u001b[39mself\u001b[39m\u001b[39m.\u001b[39m_decode(\n\u001b[0;32m   3346\u001b[0m     token_ids\u001b[39m=\u001b[39mtoken_ids,\n\u001b[0;32m   3347\u001b[0m     skip_special_tokens\u001b[39m=\u001b[39mskip_special_tokens,\n\u001b[0;32m   3348\u001b[0m     clean_up_tokenization_spaces\u001b[39m=\u001b[39mclean_up_tokenization_spaces,\n\u001b[0;32m   3349\u001b[0m     \u001b[39m*\u001b[39m\u001b[39m*\u001b[39mkwargs,\n\u001b[0;32m   3350\u001b[0m )\n",
      "File \u001b[1;32me:\\anaconda_env\\nlp\\lib\\site-packages\\transformers\\tokenization_utils.py:931\u001b[0m, in \u001b[0;36mPreTrainedTokenizer._decode\u001b[1;34m(self, token_ids, skip_special_tokens, clean_up_tokenization_spaces, spaces_between_special_tokens, **kwargs)\u001b[0m\n\u001b[0;32m    921\u001b[0m \u001b[39mdef\u001b[39;00m \u001b[39m_decode\u001b[39m(\n\u001b[0;32m    922\u001b[0m     \u001b[39mself\u001b[39m,\n\u001b[0;32m    923\u001b[0m     token_ids: List[\u001b[39mint\u001b[39m],\n\u001b[1;32m   (...)\u001b[0m\n\u001b[0;32m    927\u001b[0m     \u001b[39m*\u001b[39m\u001b[39m*\u001b[39mkwargs\n\u001b[0;32m    928\u001b[0m ) \u001b[39m-\u001b[39m\u001b[39m>\u001b[39m \u001b[39mstr\u001b[39m:\n\u001b[0;32m    929\u001b[0m     \u001b[39mself\u001b[39m\u001b[39m.\u001b[39m_decode_use_source_tokenizer \u001b[39m=\u001b[39m kwargs\u001b[39m.\u001b[39mpop(\u001b[39m\"\u001b[39m\u001b[39muse_source_tokenizer\u001b[39m\u001b[39m\"\u001b[39m, \u001b[39mFalse\u001b[39;00m)\n\u001b[1;32m--> 931\u001b[0m     filtered_tokens \u001b[39m=\u001b[39m \u001b[39mself\u001b[39;49m\u001b[39m.\u001b[39;49mconvert_ids_to_tokens(token_ids, skip_special_tokens\u001b[39m=\u001b[39;49mskip_special_tokens)\n\u001b[0;32m    933\u001b[0m     \u001b[39m# To avoid mixing byte-level and unicode for byte-level BPT\u001b[39;00m\n\u001b[0;32m    934\u001b[0m     \u001b[39m# we need to build string separately for added tokens and byte-level tokens\u001b[39;00m\n\u001b[0;32m    935\u001b[0m     \u001b[39m# cf. https://github.com/huggingface/transformers/issues/1133\u001b[39;00m\n\u001b[0;32m    936\u001b[0m     sub_texts \u001b[39m=\u001b[39m []\n",
      "File \u001b[1;32me:\\anaconda_env\\nlp\\lib\\site-packages\\transformers\\tokenization_utils.py:906\u001b[0m, in \u001b[0;36mPreTrainedTokenizer.convert_ids_to_tokens\u001b[1;34m(self, ids, skip_special_tokens)\u001b[0m\n\u001b[0;32m    904\u001b[0m tokens \u001b[39m=\u001b[39m []\n\u001b[0;32m    905\u001b[0m \u001b[39mfor\u001b[39;00m index \u001b[39min\u001b[39;00m ids:\n\u001b[1;32m--> 906\u001b[0m     index \u001b[39m=\u001b[39m \u001b[39mint\u001b[39;49m(index)\n\u001b[0;32m    907\u001b[0m     \u001b[39mif\u001b[39;00m skip_special_tokens \u001b[39mand\u001b[39;00m index \u001b[39min\u001b[39;00m \u001b[39mself\u001b[39m\u001b[39m.\u001b[39mall_special_ids:\n\u001b[0;32m    908\u001b[0m         \u001b[39mcontinue\u001b[39;00m\n",
      "\u001b[1;31mTypeError\u001b[0m: int() argument must be a string, a bytes-like object or a number, not 'list'"
     ]
    }
   ],
   "source": [
    "tokenizer.decode(test_encoding.input_ids)\n",
    "print(test_encoding)"
   ]
  },
  {
   "cell_type": "code",
   "execution_count": 9,
   "metadata": {},
   "outputs": [],
   "source": [
    "train_label = torch.tensor(train_df[\"label\"].to_list())\n",
    "valid_label = torch.tensor(valid_df[\"label\"].to_list())\n",
    "test_label = torch.tensor(test_df[\"label\"].to_list())"
   ]
  },
  {
   "cell_type": "code",
   "execution_count": 11,
   "metadata": {},
   "outputs": [],
   "source": [
    "class CreateDataset(torch.utils.data.Dataset):\n",
    "    def __init__(self, encodings, labels):\n",
    "        self.encodings = encodings\n",
    "        self.labels = labels\n",
    "    \n",
    "    def __getitem__( self, idx):\n",
    "        item = {key:torch.tensor(val[idx]).clone().detach() for key, val in self.encodings.items()}\n",
    "        item['labels'] = torch.tensor(self.labels[idx]).clone().detach()\n",
    "        return item\n",
    "    \n",
    "    def __len__( self):\n",
    "        return len(self.labels)\n",
    "\n",
    "# train_dataset = CreateDataset(train_encoding, train_label)\n",
    "# val_dataset = CreateDataset(valid_encoding, valid_label)\n",
    "test_dataset = CreateDataset(test_encoding, test_label)\n"
   ]
  },
  {
   "cell_type": "code",
   "execution_count": 12,
   "metadata": {},
   "outputs": [],
   "source": [
    "def saveModel(): \n",
    "    path = \"./IzumiElectraModel.pth\" \n",
    "    torch.save(model.state_dict(), path)\n",
    "\n"
   ]
  },
  {
   "cell_type": "code",
   "execution_count": 30,
   "metadata": {},
   "outputs": [
    {
     "name": "stderr",
     "output_type": "stream",
     "text": [
      "Some weights of the model checkpoint at izumi-lab/electra-base-japanese-discriminator were not used when initializing ElectraForSequenceClassification: ['discriminator_predictions.dense_prediction.bias', 'discriminator_predictions.dense.weight', 'discriminator_predictions.dense_prediction.weight', 'discriminator_predictions.dense.bias']\n",
      "- This IS expected if you are initializing ElectraForSequenceClassification from the checkpoint of a model trained on another task or with another architecture (e.g. initializing a BertForSequenceClassification model from a BertForPreTraining model).\n",
      "- This IS NOT expected if you are initializing ElectraForSequenceClassification from the checkpoint of a model that you expect to be exactly identical (initializing a BertForSequenceClassification model from a BertForSequenceClassification model).\n",
      "Some weights of ElectraForSequenceClassification were not initialized from the model checkpoint at izumi-lab/electra-base-japanese-discriminator and are newly initialized: ['classifier.out_proj.bias', 'classifier.dense.bias', 'classifier.out_proj.weight', 'classifier.dense.weight']\n",
      "You should probably TRAIN this model on a down-stream task to be able to use it for predictions and inference.\n"
     ]
    }
   ],
   "source": [
    "# modelをloadする場合\n",
    "model = ElectraForSequenceClassification.from_pretrained(model_path, num_labels=len(label_list))\n",
    "#model.load_state_dict(torch.load('model/IzumiElectraModel.pth'))\n"
   ]
  },
  {
   "cell_type": "code",
   "execution_count": 29,
   "metadata": {},
   "outputs": [
    {
     "name": "stderr",
     "output_type": "stream",
     "text": [
      " 80%|████████  | 8/10 [00:00<00:00, 37.70it/s]"
     ]
    },
    {
     "name": "stdout",
     "output_type": "stream",
     "text": [
      "tensor([[[-0.3840, -0.1315,  0.0129,  ...,  0.3004, -0.2317,  0.6366],\n",
      "         [-0.3840, -0.1315,  0.0129,  ...,  0.3004, -0.2317,  0.6366],\n",
      "         [-0.3840, -0.1315,  0.0129,  ...,  0.3004, -0.2317,  0.6366],\n",
      "         ...,\n",
      "         [-0.3840, -0.1315,  0.0129,  ...,  0.3004, -0.2317,  0.6366],\n",
      "         [-0.3840, -0.1315,  0.0129,  ...,  0.3004, -0.2317,  0.6366],\n",
      "         [-0.3840, -0.1315,  0.0129,  ...,  0.3004, -0.2317,  0.6366]]],\n",
      "       device='cuda:0')\n",
      "tensor([[ 0.2023,  0.2331,  0.2523, -0.3434,  0.2608,  0.1914,  0.2062,  0.2314,\n",
      "          0.0790]], device='cuda:0')\n",
      "tensor([[[-0.3840, -0.1315,  0.0129,  ...,  0.3004, -0.2317,  0.6366],\n",
      "         [-0.3840, -0.1315,  0.0129,  ...,  0.3004, -0.2317,  0.6366],\n",
      "         [-0.3840, -0.1315,  0.0129,  ...,  0.3004, -0.2317,  0.6366],\n",
      "         ...,\n",
      "         [-0.3840, -0.1315,  0.0129,  ...,  0.3004, -0.2317,  0.6366],\n",
      "         [-0.3840, -0.1315,  0.0129,  ...,  0.3004, -0.2317,  0.6366],\n",
      "         [-0.3840, -0.1315,  0.0129,  ...,  0.3004, -0.2317,  0.6366]]],\n",
      "       device='cuda:0')\n",
      "tensor([[ 0.2023,  0.2331,  0.2523, -0.3434,  0.2608,  0.1914,  0.2062,  0.2314,\n",
      "          0.0790]], device='cuda:0')\n",
      "tensor([[[-0.3840, -0.1315,  0.0129,  ...,  0.3004, -0.2317,  0.6366],\n",
      "         [-0.3840, -0.1315,  0.0129,  ...,  0.3004, -0.2317,  0.6366],\n",
      "         [-0.3840, -0.1315,  0.0129,  ...,  0.3004, -0.2317,  0.6366],\n",
      "         ...,\n",
      "         [-0.3840, -0.1315,  0.0129,  ...,  0.3004, -0.2317,  0.6366],\n",
      "         [-0.3840, -0.1315,  0.0129,  ...,  0.3004, -0.2317,  0.6366],\n",
      "         [-0.3840, -0.1315,  0.0129,  ...,  0.3004, -0.2317,  0.6366]]],\n",
      "       device='cuda:0')\n",
      "tensor([[ 0.2023,  0.2331,  0.2523, -0.3434,  0.2608,  0.1914,  0.2062,  0.2314,\n",
      "          0.0790]], device='cuda:0')\n",
      "tensor([[[-0.3840, -0.1315,  0.0129,  ...,  0.3004, -0.2317,  0.6366],\n",
      "         [-0.3840, -0.1315,  0.0129,  ...,  0.3004, -0.2317,  0.6366],\n",
      "         [-0.3840, -0.1315,  0.0129,  ...,  0.3004, -0.2317,  0.6366],\n",
      "         ...,\n",
      "         [-0.3840, -0.1315,  0.0129,  ...,  0.3004, -0.2317,  0.6366],\n",
      "         [-0.3840, -0.1315,  0.0129,  ...,  0.3004, -0.2317,  0.6366],\n",
      "         [-0.3840, -0.1315,  0.0129,  ...,  0.3004, -0.2317,  0.6366]]],\n",
      "       device='cuda:0')\n",
      "tensor([[ 0.2023,  0.2331,  0.2523, -0.3434,  0.2608,  0.1914,  0.2062,  0.2314,\n",
      "          0.0790]], device='cuda:0')\n",
      "tensor([[[-0.3840, -0.1315,  0.0129,  ...,  0.3004, -0.2317,  0.6366],\n",
      "         [-0.3840, -0.1315,  0.0129,  ...,  0.3004, -0.2317,  0.6366],\n",
      "         [-0.3840, -0.1315,  0.0129,  ...,  0.3004, -0.2317,  0.6366],\n",
      "         ...,\n",
      "         [-0.3840, -0.1315,  0.0129,  ...,  0.3004, -0.2317,  0.6366],\n",
      "         [-0.3840, -0.1315,  0.0129,  ...,  0.3004, -0.2317,  0.6366],\n",
      "         [-0.3840, -0.1315,  0.0129,  ...,  0.3004, -0.2317,  0.6366]]],\n",
      "       device='cuda:0')\n",
      "tensor([[ 0.2023,  0.2331,  0.2523, -0.3434,  0.2608,  0.1914,  0.2062,  0.2314,\n",
      "          0.0790]], device='cuda:0')\n",
      "tensor([[[-0.3840, -0.1315,  0.0129,  ...,  0.3004, -0.2317,  0.6366],\n",
      "         [-0.3840, -0.1315,  0.0129,  ...,  0.3004, -0.2317,  0.6366],\n",
      "         [-0.3840, -0.1315,  0.0129,  ...,  0.3004, -0.2317,  0.6366],\n",
      "         ...,\n",
      "         [-0.3840, -0.1315,  0.0129,  ...,  0.3004, -0.2317,  0.6366],\n",
      "         [-0.3840, -0.1315,  0.0129,  ...,  0.3004, -0.2317,  0.6366],\n",
      "         [-0.3840, -0.1315,  0.0129,  ...,  0.3004, -0.2317,  0.6366]]],\n",
      "       device='cuda:0')\n",
      "tensor([[ 0.2023,  0.2331,  0.2523, -0.3434,  0.2608,  0.1914,  0.2062,  0.2314,\n",
      "          0.0790]], device='cuda:0')\n",
      "tensor([[[-0.3840, -0.1315,  0.0129,  ...,  0.3004, -0.2317,  0.6366],\n",
      "         [-0.3840, -0.1315,  0.0129,  ...,  0.3004, -0.2317,  0.6366],\n",
      "         [-0.3840, -0.1315,  0.0129,  ...,  0.3004, -0.2317,  0.6366],\n",
      "         ...,\n",
      "         [-0.3840, -0.1315,  0.0129,  ...,  0.3004, -0.2317,  0.6366],\n",
      "         [-0.3840, -0.1315,  0.0129,  ...,  0.3004, -0.2317,  0.6366],\n",
      "         [-0.3840, -0.1315,  0.0129,  ...,  0.3004, -0.2317,  0.6366]]],\n",
      "       device='cuda:0')\n",
      "tensor([[ 0.2023,  0.2331,  0.2523, -0.3434,  0.2608,  0.1914,  0.2062,  0.2314,\n",
      "          0.0790]], device='cuda:0')\n",
      "tensor([[[-0.3840, -0.1315,  0.0129,  ...,  0.3004, -0.2317,  0.6366],\n",
      "         [-0.3840, -0.1315,  0.0129,  ...,  0.3004, -0.2317,  0.6366],\n",
      "         [-0.3840, -0.1315,  0.0129,  ...,  0.3004, -0.2317,  0.6366],\n",
      "         ...,\n",
      "         [-0.3840, -0.1315,  0.0129,  ...,  0.3004, -0.2317,  0.6366],\n",
      "         [-0.3840, -0.1315,  0.0129,  ...,  0.3004, -0.2317,  0.6366],\n",
      "         [-0.3840, -0.1315,  0.0129,  ...,  0.3004, -0.2317,  0.6366]]],\n",
      "       device='cuda:0')\n",
      "tensor([[ 0.2023,  0.2331,  0.2523, -0.3434,  0.2608,  0.1914,  0.2062,  0.2314,\n",
      "          0.0790]], device='cuda:0')\n"
     ]
    },
    {
     "name": "stderr",
     "output_type": "stream",
     "text": [
      "100%|██████████| 10/10 [00:00<00:00, 37.79it/s]"
     ]
    },
    {
     "name": "stdout",
     "output_type": "stream",
     "text": [
      "tensor([[[-0.3840, -0.1315,  0.0129,  ...,  0.3004, -0.2317,  0.6366],\n",
      "         [-0.3840, -0.1315,  0.0129,  ...,  0.3004, -0.2317,  0.6366],\n",
      "         [-0.3840, -0.1315,  0.0129,  ...,  0.3004, -0.2317,  0.6366],\n",
      "         ...,\n",
      "         [-0.3840, -0.1315,  0.0129,  ...,  0.3004, -0.2317,  0.6366],\n",
      "         [-0.3840, -0.1315,  0.0129,  ...,  0.3004, -0.2317,  0.6366],\n",
      "         [-0.3840, -0.1315,  0.0129,  ...,  0.3004, -0.2317,  0.6366]]],\n",
      "       device='cuda:0')\n",
      "tensor([[ 0.2023,  0.2331,  0.2523, -0.3434,  0.2608,  0.1914,  0.2062,  0.2314,\n",
      "          0.0790]], device='cuda:0')\n",
      "tensor([[[-0.3840, -0.1315,  0.0129,  ...,  0.3004, -0.2317,  0.6366],\n",
      "         [-0.3840, -0.1315,  0.0129,  ...,  0.3004, -0.2317,  0.6366],\n",
      "         [-0.3840, -0.1315,  0.0129,  ...,  0.3004, -0.2317,  0.6366],\n",
      "         ...,\n",
      "         [-0.3840, -0.1315,  0.0129,  ...,  0.3004, -0.2317,  0.6366],\n",
      "         [-0.3840, -0.1315,  0.0129,  ...,  0.3004, -0.2317,  0.6366],\n",
      "         [-0.3840, -0.1315,  0.0129,  ...,  0.3004, -0.2317,  0.6366]]],\n",
      "       device='cuda:0')\n",
      "tensor([[ 0.2023,  0.2331,  0.2523, -0.3434,  0.2608,  0.1914,  0.2062,  0.2314,\n",
      "          0.0790]], device='cuda:0')\n"
     ]
    },
    {
     "name": "stderr",
     "output_type": "stream",
     "text": [
      "\n"
     ]
    }
   ],
   "source": [
    "model = model.to(device)\n",
    "model.eval()\n",
    "preds = []\n",
    "test_label = test_df[\"label\"].to_list()\n",
    "\n",
    "hidden_vec = None\n",
    "\n",
    "with torch.no_grad():\n",
    "    for words in tqdm(test_df[\"text\"].to_list()[:10]):\n",
    "        text = \"\".join(words)\n",
    "        inputs = tokenizer.encode(text, return_tensors=\"pt\",padding=True, truncation=True, max_length=max_len).to(device)\n",
    "        \n",
    "        outputs = model(inputs, output_hidden_states = True)\n",
    "\n",
    "        logits = outputs.logits\n",
    "        #for hidden_vec in outputs.hidden_states:\n",
    "        #    print(hidden_vec)\n",
    "        print(outputs.hidden_states[12])\n",
    "\n",
    "        pred=logits.argmax(1).item()\n",
    "        preds.append(pred)\n",
    "        print(logits)\n",
    "        "
   ]
  },
  {
   "cell_type": "code",
   "execution_count": null,
   "metadata": {},
   "outputs": [
    {
     "name": "stdout",
     "output_type": "stream",
     "text": [
      "tensor([[-4.9013e-02, -3.5269e-02,  3.9659e-05,  ..., -4.5948e-02,\n",
      "         -5.1169e-02, -1.7002e-01],\n",
      "        [-6.6065e-02, -3.8552e-01,  1.0820e-01,  ..., -5.2016e-02,\n",
      "         -1.9668e-01,  2.3539e-01],\n",
      "        [ 1.8220e-01,  7.4448e-01,  9.0461e-02,  ..., -2.4467e-01,\n",
      "         -2.3794e-01,  1.9124e-01],\n",
      "        ...,\n",
      "        [-1.6205e-01, -1.1602e-01, -4.9651e-01,  ..., -2.6800e-01,\n",
      "          5.5364e-02,  1.4741e-01],\n",
      "        [ 3.9453e-01, -4.0082e-01,  1.1155e+00,  ..., -1.1503e-01,\n",
      "          1.7212e-01, -2.8380e-02],\n",
      "        [ 1.0411e-01,  1.3888e-01,  1.5240e-01,  ...,  1.1176e-01,\n",
      "         -1.4519e-01,  2.2238e-01]], device='cuda:0')\n",
      "tensor([[ 0.0055, -0.0092, -0.0402,  ..., -0.0080, -0.0490, -0.0393],\n",
      "        [-0.0518, -0.4100,  0.1989,  ..., -0.0458, -0.1217,  0.1962],\n",
      "        [ 0.2088,  0.8276,  0.2504,  ..., -0.2981, -0.1843,  0.0903],\n",
      "        ...,\n",
      "        [-0.1146, -0.0640, -0.1977,  ..., -0.0841,  0.1103,  0.1282],\n",
      "        [ 0.3769, -0.5215,  1.1141,  ..., -0.1183,  0.2924, -0.0298],\n",
      "        [ 0.0300, -1.1781,  0.5374,  ...,  0.0383, -0.6403, -0.2918]],\n",
      "       device='cuda:0')\n",
      "tensor([[ 7.7113e-03,  1.8583e-04, -5.9222e-02,  ..., -1.9766e-02,\n",
      "         -9.4140e-02, -2.8062e-02],\n",
      "        [-1.5995e-01, -2.9444e-01,  8.3957e-02,  ..., -7.6332e-03,\n",
      "          3.6817e-02,  9.0031e-02],\n",
      "        [ 1.0884e-01,  7.1631e-01,  1.6799e-01,  ..., -3.6492e-01,\n",
      "         -6.8495e-02,  1.3869e-02],\n",
      "        ...,\n",
      "        [-8.8250e-02, -7.7001e-02, -1.9457e-01,  ..., -3.1793e-02,\n",
      "          6.9753e-02,  5.0259e-02],\n",
      "        [ 2.4476e-01, -5.5309e-01,  1.0178e+00,  ..., -6.2045e-02,\n",
      "          2.2677e-01, -5.3387e-02],\n",
      "        [ 2.1796e-02, -2.1720e-03, -5.6121e-02,  ..., -1.7366e-02,\n",
      "         -9.2031e-02, -2.7597e-02]], device='cuda:0')\n",
      "tensor([[ 0.0376,  0.0168, -0.0200,  ..., -0.0130, -0.1151, -0.0150],\n",
      "        [-0.2707, -0.4054, -0.0163,  ..., -0.1361, -0.0296,  0.0940],\n",
      "        [ 0.0858,  0.5314,  0.0506,  ..., -0.3967, -0.1383, -0.0114],\n",
      "        ...,\n",
      "        [-0.0267, -0.0081, -0.1320,  ...,  0.0668,  0.1308,  0.0380],\n",
      "        [ 0.2933, -0.6388,  1.0074,  ..., -0.0756,  0.2460,  0.0152],\n",
      "        [ 0.0382,  0.0165, -0.0202,  ..., -0.0131, -0.1156, -0.0153]],\n",
      "       device='cuda:0')\n",
      "tensor([[ 0.0819,  0.0346,  0.0688,  ...,  0.0044, -0.0958, -0.0140],\n",
      "        [-0.3559, -0.4442,  0.0104,  ..., -0.1670, -0.1221,  0.1622],\n",
      "        [ 0.0930,  0.5696, -0.3877,  ..., -0.3261, -0.2666, -0.1397],\n",
      "        ...,\n",
      "        [-0.0063, -0.0498, -0.2934,  ..., -0.0326, -0.0099, -0.0172],\n",
      "        [ 0.1570, -0.6619,  0.9497,  ..., -0.1078,  0.1433,  0.0941],\n",
      "        [ 0.0819,  0.0345,  0.0688,  ...,  0.0045, -0.0959, -0.0140]],\n",
      "       device='cuda:0')\n",
      "tensor([[ 0.0809,  0.0175,  0.0581,  ..., -0.0189, -0.1210, -0.0340],\n",
      "        [-0.4211, -0.2901,  0.2399,  ..., -0.0035, -0.2589,  0.1174],\n",
      "        [-0.0518,  0.7175, -0.4577,  ..., -0.2730, -0.5040, -0.0348],\n",
      "        ...,\n",
      "        [ 0.1539, -0.0241, -0.3101,  ...,  0.0687, -0.1913,  0.1767],\n",
      "        [ 0.1434, -0.5976,  1.0321,  ...,  0.1105,  0.1728,  0.2866],\n",
      "        [ 0.0810,  0.0174,  0.0581,  ..., -0.0189, -0.1211, -0.0340]],\n",
      "       device='cuda:0')\n",
      "tensor([[ 0.1193,  0.0206,  0.0784,  ..., -0.0706, -0.2106, -0.1047],\n",
      "        [-0.1262, -0.2447,  0.1320,  ...,  0.1430, -0.3007,  0.0640],\n",
      "        [ 0.2672,  0.9535, -0.6020,  ...,  0.0208, -0.5695, -0.0512],\n",
      "        ...,\n",
      "        [ 0.0837, -0.0670, -0.1559,  ..., -0.0015, -0.2919,  0.1703],\n",
      "        [ 0.1712, -0.5469,  1.2958,  ..., -0.0193,  0.0507,  0.2650],\n",
      "        [ 0.1194,  0.0207,  0.0785,  ..., -0.0707, -0.2106, -0.1047]],\n",
      "       device='cuda:0')\n",
      "tensor([[ 0.0651, -0.0548,  0.0550,  ..., -0.0711, -0.0909, -0.0472],\n",
      "        [-0.0609, -0.4227,  0.2795,  ..., -0.1343, -0.2884,  0.0338],\n",
      "        [ 0.1075,  0.5895, -0.7567,  ...,  0.0277, -0.5489,  0.2422],\n",
      "        ...,\n",
      "        [-0.1006,  0.2726, -0.2644,  ..., -0.0428, -0.4762, -0.0496],\n",
      "        [-0.1027, -0.2791,  1.5586,  ..., -0.2066,  0.0125,  0.5033],\n",
      "        [ 0.0652, -0.0548,  0.0550,  ..., -0.0711, -0.0910, -0.0472]],\n",
      "       device='cuda:0')\n",
      "tensor([[-0.0092, -0.0506,  0.0330,  ..., -0.0054, -0.0783, -0.0150],\n",
      "        [ 0.3031, -0.5383,  0.4514,  ..., -0.0264, -0.3154, -0.0755],\n",
      "        [-0.2997,  0.2742, -0.4983,  ...,  0.2632, -0.6175, -0.1311],\n",
      "        ...,\n",
      "        [ 0.1014,  0.0504, -0.1772,  ..., -0.0584, -0.5591, -0.0203],\n",
      "        [-0.1694, -0.0520,  1.4363,  ..., -0.2051,  0.0208, -0.0022],\n",
      "        [-0.0092, -0.0506,  0.0330,  ..., -0.0054, -0.0783, -0.0151]],\n",
      "       device='cuda:0')\n",
      "tensor([[ 0.0454, -0.0306,  0.0750,  ..., -0.0327, -0.1381,  0.0591],\n",
      "        [ 0.6177, -0.5354,  0.2048,  ..., -0.2027, -0.2753, -0.0225],\n",
      "        [-0.2324,  0.3741, -0.2570,  ..., -0.0437, -0.5936,  0.1861],\n",
      "        ...,\n",
      "        [-0.0809,  0.0777, -0.2955,  ..., -0.2197, -0.1958,  0.0187],\n",
      "        [-0.0662, -0.1685,  1.0592,  ..., -0.1761,  0.0903, -0.1041],\n",
      "        [ 0.0454, -0.0306,  0.0751,  ..., -0.0327, -0.1381,  0.0591]],\n",
      "       device='cuda:0')\n",
      "tensor([[ 0.1017, -0.0067,  0.1399,  ..., -0.0346, -0.1568, -0.0261],\n",
      "        [ 0.7701, -0.5023,  0.4024,  ...,  0.1199, -0.0709,  0.0230],\n",
      "        [ 0.0997,  0.4189,  0.0092,  ...,  0.0145, -0.6087, -0.1960],\n",
      "        ...,\n",
      "        [-0.0167, -0.2581,  0.1050,  ..., -0.1143, -0.1567,  0.1796],\n",
      "        [-0.1994, -0.0974,  0.6828,  ...,  0.0876,  0.3112, -0.3164],\n",
      "        [ 0.1017, -0.0067,  0.1399,  ..., -0.0346, -0.1568, -0.0261]],\n",
      "       device='cuda:0')\n",
      "tensor([[ 0.0844,  0.0193,  0.0197,  ..., -0.0417, -0.0162,  0.0669],\n",
      "        [ 0.4043,  0.0577,  0.5770,  ...,  0.1917, -0.0694, -0.3537],\n",
      "        [ 0.1461,  0.1906, -0.1139,  ...,  0.5076, -0.8821, -0.0623],\n",
      "        ...,\n",
      "        [-0.1561, -0.0219, -0.1702,  ..., -0.2452, -0.0242,  0.0464],\n",
      "        [-0.0653, -0.3219,  0.5843,  ...,  0.0795,  0.6746, -0.0441],\n",
      "        [ 0.0844,  0.0193,  0.0197,  ..., -0.0417, -0.0162,  0.0669]],\n",
      "       device='cuda:0')\n"
     ]
    },
    {
     "data": {
      "text/plain": [
       "torch.Size([1, 100, 768])"
      ]
     },
     "execution_count": 16,
     "metadata": {},
     "output_type": "execute_result"
    }
   ],
   "source": [
    "cos = torch.nn.CosineSimilarity(dim=1, eps=1e-6)\n",
    "\n",
    "for i in range(len(outputs.hidden_states)-1):\n",
    "    a = outputs.hidden_states[i][0]\n",
    "    b = outputs.hidden_states[i+1][0]\n",
    "    print(a)\n",
    "\n",
    "outputs.hidden_states[0].shape\n"
   ]
  },
  {
   "cell_type": "code",
   "execution_count": null,
   "metadata": {},
   "outputs": [
    {
     "data": {
      "text/plain": [
       "['Peachyでも大人気の「恋愛」をテーマにした記事の週間ランキングです！2012年6月21日〜6月27日の間にPeachyのアプリでみんなが読んだ恋愛記事TOP5をお届けします。第1位：「付き合おう」って言葉は必要？「好きです！付き合ってください！」「ありがとう。よろしくお願いします」…そんなやり取りがあれば一番わかりやすいんですが、なんとな〜くの流れでいつのまにか付き合っているってカップルも多いですよね。今回のお悩みは、そんなあいまいな始まりに不安を抱える女性から。「カレ攻略 恋の相談室」サイトの監修者・如月音流さんが回答してくれました。第2位：好みのタイプなんだけど…「好きだけど、愛せない女」の特徴5選好きと愛しているは違うの？そんな疑問が浮かび、周囲の男性にその違いを聞いてみることにしました。そこで男性が語った「好きな女」と「愛したい女」の違いが興味深かったのでご紹介いたします。第3位：気になる彼はどう？実は落としにくい男性の職業10個【前編】気になる人が出来たらもちろんアピールをして、付き合えるように作戦を立てたりしますよね。しかし、どんなにこちらが気のある素振りを見せてもなかなかうまくいかない人もいます。「その人がどういった職業についているのかで、大まかな性格や落としにくさわかる場合もあります」こう語るのは、元キャバクラ嬢でライターの竹内レイさん。そんなレイさんに今回は、実は落としにくい男性の職業について伺ってみたいと思います。第4位：絶対に無理！飲み会で男にドン引きされる女のNG行動7つ合コンや会社の付き合いで飲みに行く機会は意外と多いですよね。ついつい油断して飲み過ぎてしまい、だらしない姿を男性に見られてしまったことはありませんか？そこで仕事柄、アイドルや女優、女性スタッフと飲みに行く機会の多い放送作家の白武ときおさんに、どんな女性がNGなのかを伺いました。第5位：人間界ではありえない!? 自然界における驚愕の「性事情」動物たちは子孫繁栄のために繁殖活動を行います。ただ、その方法は人間のセックスと違うことも多いようです。例えば、カマキリは交尾直後にメスがオスを食べてしまうことで有名ですよね。このような驚きの性事情を、動物行動学を研究している京都女子大学現代社会学部の中田兼介准教授に教えてもらいました。さっそく紹介していきましょう。以上、先週のPeachy【恋愛】カテゴリの人気記事ランキングでした！',\n",
       " '値下げや利用可能国が拡大！テレコムスクエアは1日、ポストペイドタイプの海外向けSIMカード「世界のSIMカード」をリニューアルして提供することを発表した。取り扱い国をこれまでの18カ国から28カ国へ拡大、料金についても月額料金を800円にほぼ統一して値下げし、従来は法人向けの対面販売のみだったが、同社のウェブサイトからオンラインで申し込めるようになった。8月31日までの期間に申し込みをした場合、従来必要な契約事務手数料3,150円を無料にするほか、9月30日までの期間限定で、同社の電話通訳・相談サービス「コンシェルコール」も無料で提供するキャンペーンも実施。世界のSIMカードは、海外利用における音声通話のニーズに応えるため同社が2005年に販売を開始した商品。国内キャリアの回線を渡航先で利用する「国際ローミング」に比べ、割安でつながりやすいといったメリットがある。プリペイドではなくポストペイドのため、リチャージの必要もない。毎月同じ国に渡航する場合や、2ヶ月以上の長期渡航する場合など、長期渡航者をターゲットに現地SIMを日本で入手できますよ、という商品だ。■「世界のSIMカード」の特長1. 世界各国の現地SIMカードが日本で調達可能2. 現地の電話番号のためつながりやすく、現地の方もかけやすい3. いつも同じ電話番号4. 月々の基本料金は800円から(韓国、メキシコは別料金)5. 契約期間は最低3ヶ月、以降は一ヶ月単位で解約が可能6. 通話料金は、日本の携帯電話のローミング料金の半額から、19カ国では着信が無料7. ポストペイ（後払い）方式なので、リチャージが不要■「世界のSIMカード」の商品概要・取り扱い回線国：アメリカ、カナダ、メキシコ、ブラジル、インド、インドネシア、韓国、シンガポール、タイ、台湾、中国、フィリピン、ベトナム、香港、マレーシア、オーストラリア、イギリス、イタリア、オランダ、スイス、スペイン、ドイツ、トルコ、フランス、ベルギー、ロシア、UAE、南アフリカ (全28カ国)・料金：月額基本料金800円(韓国とメキシコのみ1,800円、韓国は携帯端末のレンタル料金を含む)通話料金：滞在国へ発信40円〜／分、日本へ発信90円〜／分、着信無料〜・最低契約期間：3ヶ月(以降1ヶ月毎の自動更新)・オプション：携帯電話機のレンタル：月額1,260円／台〜、安心補償：月額1,050円／台〜、通話明細書：315円／台通話料金は、例えば中国タイプの場合で現地通話料が1分50円と格安。28カ国中19カ国では着信が無料という。また、オプションサービスとして日本語に対応したSIMフリーの携帯電話機のレンタルサービス、盗難や紛失に備えた補償制度、24時間365日対応のコールセンターなどのサポートサービスが用意されている。申し込みには、法人、個人とも本人確認書類が必要。各種オプションサービスや国別の料金表(基本料金、通話料金、SMS料金)などの確認および申し込みは同社Webサイトの専用ページからおこなうことができる。記事執筆：2106bpm(つとむびーぴーえむ)■関連リンク・エスマックス（S-MAX）・エスマックス（S-MAX） smaxjp on Twitter・テレコムスクエアが中部国際空港にモバイルレンタル専門店「モバイルセンター」を8月1日にオープン！「モバイルセンター羽田空港」もリニューアルし、国内主要空港でのサポートを拡充 - S-MAX - ライブドアブログ・業界最安値を実現！テレコムスクエアが海外用モバイルWi-Fiルータを破格の500円でレンタルする夏のキャンペーンを実施 - S-MAX - ライブドアブログ・国内のレンタルサービスで借りたモバイルWi-Fiルータをゴルフ三昧のオーストラリア ゴールドコースト旅行で使ってみた【レビュー】 - S-MAX - ライブドアブログ・国内でレンタルしたモバイルWi-Fiルーターをクアラルンプールで利用してきた【レビュー】 - S-MAX - ライブドアブログ・短期滞在でも渡航先でスマートフォンを使おう！韓国旅行でWiBroを試した【レビュー】 - S-MAX - ライブドアブログ・世界のSIMカード（テレコムスクエア）・テレコムスクエア']"
      ]
     },
     "execution_count": 44,
     "metadata": {},
     "output_type": "execute_result"
    }
   ],
   "source": [
    "test_df[\"text\"].to_list()[:2]"
   ]
  },
  {
   "cell_type": "code",
   "execution_count": 22,
   "metadata": {},
   "outputs": [
    {
     "name": "stdout",
     "output_type": "stream",
     "text": [
      "0.1288135593220339\n"
     ]
    }
   ],
   "source": [
    "correct_cnt = 0\n",
    "for pred, ans in zip(preds, test_label):\n",
    "    if pred == ans:\n",
    "        correct_cnt += 1 # 正解 率（ ＝ 全 データ の うち 正解 が どれ だけか)\n",
    "print( correct_cnt/ len(test_label))"
   ]
  },
  {
   "cell_type": "code",
   "execution_count": 23,
   "metadata": {},
   "outputs": [
    {
     "name": "stdout",
     "output_type": "stream",
     "text": [
      "カテゴリー数: 9\n",
      "['dokujo-tsushin', 'it-life-hack', 'kaden-channel', 'livedoor-homme', 'movie-enter', 'peachy', 'smax', 'sports-watch', 'topic-news']\n"
     ]
    },
    {
     "data": {
      "image/png": "[encoded data removed]",
      "text/plain": [
       "<Figure size 720x720 with 2 Axes>"
      ]
     },
     "metadata": {
      "needs_background": "light"
     },
     "output_type": "display_data"
    }
   ],
   "source": [
    "from sklearn.metrics import confusion_matrix\n",
    "import os \n",
    "categories = [name for name in os.listdir(\n",
    "    \"./data/livedoor/text/\") if os.path.isdir(\"./data/livedoor/text/\"+name)]\n",
    "\n",
    "print(\"カテゴリー数:\", len(categories))\n",
    "print(categories)\n",
    "\n",
    "cm = confusion_matrix(test_label, preds)\n",
    "cm = pd.DataFrame(data=cm, index=categories, \n",
    "                           columns=categories,)\n",
    "\n",
    "fig = plt.figure()\n",
    "sns.heatmap(cm, square=True, cbar=True, annot=True, cmap='Blues')\n",
    "plt.yticks(rotation=0)\n",
    "plt.xlabel(\"Predict\", fontsize=13, rotation=0)\n",
    "plt.ylabel(\"ground truth\", fontsize=13)\n",
    "fig.set_figheight(10)\n",
    "fig.set_figwidth(10)"
   ]
  },
  {
   "cell_type": "code",
   "execution_count": null,
   "metadata": {},
   "outputs": [],
   "source": []
  }
 ],
 "metadata": {
  "kernelspec": {
   "display_name": "Python 3.9.13 ('nlp')",
   "language": "python",
   "name": "python3"
  },
  "language_info": {
   "codemirror_mode": {
    "name": "ipython",
    "version": 3
   },
   "file_extension": ".py",
   "mimetype": "text/x-python",
   "name": "python",
   "nbconvert_exporter": "python",
   "pygments_lexer": "ipython3",
   "version": "3.9.13"
  },
  "orig_nbformat": 4,
  "vscode": {
   "interpreter": {
    "hash": "5955dc64dc45c9f6ad89241066402e9b90de6090510d28e2354caffb11d22191"
   }
  }
 },
 "nbformat": 4,
 "nbformat_minor": 2
}

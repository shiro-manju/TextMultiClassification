{
 "cells": [
  {
   "cell_type": "markdown",
   "metadata": {},
   "source": [
    "参考: https://qiita.com/sugulu_Ogawa_ISID/items/697bd03499c1de9cf082"
   ]
  },
  {
   "cell_type": "code",
   "execution_count": 1,
   "metadata": {},
   "outputs": [
    {
     "name": "stderr",
     "output_type": "stream",
     "text": [
      "e:\\anaconda_env\\nlp\\lib\\site-packages\\tqdm\\auto.py:22: TqdmWarning: IProgress not found. Please update jupyter and ipywidgets. See https://ipywidgets.readthedocs.io/en/stable/user_install.html\n",
      "  from .autonotebook import tqdm as notebook_tqdm\n"
     ]
    },
    {
     "name": "stdout",
     "output_type": "stream",
     "text": [
      "1.11.0+cu113\n"
     ]
    },
    {
     "data": {
      "text/plain": [
       "device(type='cuda')"
      ]
     },
     "execution_count": 1,
     "metadata": {},
     "output_type": "execute_result"
    }
   ],
   "source": [
    "import pandas as pd\n",
    "import numpy as np\n",
    "from sklearn.model_selection import train_test_split\n",
    "from tqdm import tqdm\n",
    "import torch\n",
    "from torch.utils.data import DataLoader\n",
    "\n",
    "print(torch.__version__)\n",
    "device = torch.device('cuda') if torch.cuda.is_available() else torch.device('cpu')\n",
    "device"
   ]
  },
  {
   "cell_type": "code",
   "execution_count": 2,
   "metadata": {},
   "outputs": [
    {
     "data": {
      "text/plain": [
       "<bound method NDFrame.head of                                                    text  label\n",
       "0     Peachyでも大人気の「恋愛」をテーマにした記事の週間ランキングです！2012年6月21日...      5\n",
       "1     値下げや利用可能国が拡大！テレコムスクエアは1日、ポストペイドタイプの海外向けSIMカード「...      6\n",
       "2     ４月。新しい年度を迎え、新しい顧客の開拓、新しい取引先、新しい上司や同僚。エネルギーに満ち溢...      3\n",
       "3     Xperia GXが発表！ソニーモバイルコミュニケーションズは9日、国内向けとして2012年...      6\n",
       "4     1月も後半に入り、バレンタインデーの話題も増えてきた今日この頃。皆さんはチョコを贈る相手、決...      5\n",
       "...                                                 ...    ...\n",
       "1470  今週末26日、さいたまスーパーアリーナで開催される世界最高峰の総合格闘技イベント＝UFC日本...      7\n",
       "1471  名番組「突撃！隣の晩ごはん」のヨネスケが、今度は「OLの昼ごはん」をレポートする。華やかな企...      0\n",
       "1472  新年度を迎え、周りの環境も変わると、職場や取引先でも新しい出会いが増えるこの季節。名刺交換中...      5\n",
       "1473  5日深夜、アルガルベカップで、宿敵アメリカ代表からはじめて勝利を挙げたサッカー女子日本代表＝...      7\n",
       "1474  「男子厨房に入らず」—。「弁当男子」なんて言葉も登場している現代では、死語と言えるだろう。で...      0\n",
       "\n",
       "[1475 rows x 2 columns]>"
      ]
     },
     "execution_count": 2,
     "metadata": {},
     "output_type": "execute_result"
    }
   ],
   "source": [
    "train_df = pd.read_csv(\"train_eval.tsv\", sep=\"\\t\",  names=('text', 'label'))\n",
    "test_df = pd.read_csv(\"test.tsv\", sep=\"\\t\",  names=('text', 'label'))\n",
    "\n",
    "test_df.head"
   ]
  },
  {
   "cell_type": "code",
   "execution_count": 3,
   "metadata": {},
   "outputs": [
    {
     "data": {
      "text/plain": [
       "0    871\n",
       "1    871\n",
       "2    865\n",
       "3    512\n",
       "4    871\n",
       "5    843\n",
       "6    871\n",
       "7    901\n",
       "8    771\n",
       "Name: label, dtype: int64"
      ]
     },
     "execution_count": 3,
     "metadata": {},
     "output_type": "execute_result"
    }
   ],
   "source": [
    "# データのカウント\n",
    "label_list = train_df[\"label\"].unique()\n",
    "train_df[\"label\"].value_counts() + test_df[\"label\"].value_counts()\n"
   ]
  },
  {
   "cell_type": "code",
   "execution_count": 4,
   "metadata": {},
   "outputs": [],
   "source": [
    "train_df, valid_df = train_test_split(train_df, test_size=0.2, shuffle=False)"
   ]
  },
  {
   "cell_type": "code",
   "execution_count": 5,
   "metadata": {},
   "outputs": [],
   "source": [
    "import torch\n",
    "from transformers import AdamW, AutoTokenizer, AutoModelForMaskedLM, AutoModelForSequenceClassification\n",
    "from transformers import ElectraTokenizer, ElectraForSequenceClassification, BertJapaneseTokenizer, BertForSequenceClassification\n",
    "# model_path = \"cl-tohoku/bert-base-japanese\"\n",
    "model_path = \"izumi-lab/electra-base-japanese-discriminator\"\n",
    "# model_path = \"izumi-lab/electra-small-japanese-fin-discriminator\"\n"
   ]
  },
  {
   "cell_type": "code",
   "execution_count": 7,
   "metadata": {},
   "outputs": [
    {
     "name": "stderr",
     "output_type": "stream",
     "text": [
      "Some weights of the model checkpoint at izumi-lab/electra-base-japanese-discriminator were not used when initializing ElectraForSequenceClassification: ['discriminator_predictions.dense.bias', 'discriminator_predictions.dense_prediction.weight', 'discriminator_predictions.dense_prediction.bias', 'discriminator_predictions.dense.weight']\n",
      "- This IS expected if you are initializing ElectraForSequenceClassification from the checkpoint of a model trained on another task or with another architecture (e.g. initializing a BertForSequenceClassification model from a BertForPreTraining model).\n",
      "- This IS NOT expected if you are initializing ElectraForSequenceClassification from the checkpoint of a model that you expect to be exactly identical (initializing a BertForSequenceClassification model from a BertForSequenceClassification model).\n",
      "Some weights of ElectraForSequenceClassification were not initialized from the model checkpoint at izumi-lab/electra-base-japanese-discriminator and are newly initialized: ['classifier.dense.weight', 'classifier.dense.bias', 'classifier.out_proj.bias', 'classifier.out_proj.weight']\n",
      "You should probably TRAIN this model on a down-stream task to be able to use it for predictions and inference.\n"
     ]
    },
    {
     "name": "stdout",
     "output_type": "stream",
     "text": [
      "except last layer: ElectraClassificationHead(\n",
      "  (dense): Linear(in_features=768, out_features=768, bias=True)\n",
      "  (dropout): Dropout(p=0.1, inplace=False)\n",
      "  (out_proj): Linear(in_features=768, out_features=9, bias=True)\n",
      ")\n",
      "False\n",
      "False\n",
      "False\n",
      "False\n",
      "False\n",
      "False\n",
      "False\n",
      "False\n",
      "False\n",
      "False\n",
      "False\n",
      "False\n",
      "False\n",
      "False\n",
      "False\n",
      "False\n",
      "False\n",
      "False\n",
      "False\n",
      "False\n",
      "False\n",
      "False\n",
      "False\n",
      "False\n",
      "False\n",
      "False\n",
      "False\n",
      "False\n",
      "False\n",
      "False\n",
      "False\n",
      "False\n",
      "False\n",
      "False\n",
      "False\n",
      "False\n",
      "False\n",
      "False\n",
      "False\n",
      "False\n",
      "False\n",
      "False\n",
      "False\n",
      "False\n",
      "False\n",
      "False\n",
      "False\n",
      "False\n",
      "False\n",
      "False\n",
      "False\n",
      "False\n",
      "False\n",
      "False\n",
      "False\n",
      "False\n",
      "False\n",
      "False\n",
      "False\n",
      "False\n",
      "False\n",
      "False\n",
      "False\n",
      "False\n",
      "False\n",
      "False\n",
      "False\n",
      "False\n",
      "False\n",
      "False\n",
      "False\n",
      "False\n",
      "False\n",
      "False\n",
      "False\n",
      "False\n",
      "False\n",
      "False\n",
      "False\n",
      "False\n",
      "False\n",
      "False\n",
      "False\n",
      "False\n",
      "False\n",
      "False\n",
      "False\n",
      "False\n",
      "False\n",
      "False\n",
      "False\n",
      "False\n",
      "False\n",
      "False\n",
      "False\n",
      "False\n",
      "False\n",
      "False\n",
      "False\n",
      "False\n",
      "False\n",
      "False\n",
      "False\n",
      "False\n",
      "False\n",
      "False\n",
      "False\n",
      "False\n",
      "False\n",
      "False\n",
      "False\n",
      "False\n",
      "False\n",
      "False\n",
      "False\n",
      "False\n",
      "False\n",
      "False\n",
      "False\n",
      "False\n",
      "False\n",
      "False\n",
      "False\n",
      "False\n",
      "False\n",
      "False\n",
      "False\n",
      "False\n",
      "False\n",
      "False\n",
      "False\n",
      "False\n",
      "False\n",
      "False\n",
      "False\n",
      "False\n",
      "False\n",
      "False\n",
      "False\n",
      "False\n",
      "False\n",
      "False\n",
      "False\n",
      "False\n",
      "False\n",
      "False\n",
      "False\n",
      "False\n",
      "False\n",
      "False\n",
      "False\n",
      "False\n",
      "False\n",
      "False\n",
      "False\n",
      "False\n",
      "False\n",
      "False\n",
      "False\n",
      "False\n",
      "False\n",
      "False\n",
      "False\n",
      "False\n",
      "False\n",
      "False\n",
      "False\n",
      "False\n",
      "False\n",
      "False\n",
      "False\n",
      "False\n",
      "False\n",
      "False\n",
      "False\n",
      "False\n",
      "False\n",
      "False\n",
      "False\n",
      "False\n",
      "False\n",
      "False\n",
      "False\n",
      "False\n",
      "False\n",
      "False\n",
      "False\n",
      "False\n",
      "False\n",
      "False\n",
      "False\n",
      "False\n",
      "False\n",
      "False\n",
      "False\n",
      "False\n",
      "False\n",
      "True\n",
      "True\n",
      "True\n",
      "True\n"
     ]
    }
   ],
   "source": [
    "tokenizer = BertJapaneseTokenizer.from_pretrained(model_path)\n",
    "model = AutoModelForSequenceClassification.from_pretrained(model_path, num_labels=len(label_list))\n",
    "\n",
    "# freeze layers except last layer\n",
    "for param in model.parameters():\n",
    "    param.requires_grad = False\n",
    "\n",
    "last_layer = list(model.children())[-1]\n",
    "print(f'except last layer: {last_layer}')\n",
    "for param in last_layer.parameters():\n",
    "    param.requires_grad = True"
   ]
  },
  {
   "cell_type": "code",
   "execution_count": 8,
   "metadata": {},
   "outputs": [],
   "source": [
    "max_len = 100\n",
    "train_encoding = tokenizer(train_df[\"text\"].to_list(), return_tensors=\"pt\",padding=True, truncation=True, max_length=max_len)\n",
    "valid_encoding = tokenizer(valid_df[\"text\"].to_list(), return_tensors=\"pt\",padding=True, truncation=True, max_length=max_len)\n",
    "test_encoding = tokenizer(test_df[\"text\"].to_list(), return_tensors=\"pt\",padding=True, truncation=True, max_length=max_len)"
   ]
  },
  {
   "cell_type": "code",
   "execution_count": 9,
   "metadata": {},
   "outputs": [],
   "source": [
    "train_label = torch.tensor(train_df[\"label\"].to_list())\n",
    "valid_label = torch.tensor(valid_df[\"label\"].to_list())\n",
    "test_label = torch.tensor(test_df[\"label\"].to_list())"
   ]
  },
  {
   "cell_type": "code",
   "execution_count": 10,
   "metadata": {},
   "outputs": [
    {
     "name": "stdout",
     "output_type": "stream",
     "text": [
      "tensor([    1, 28677,  4333, 12094,  4963])\n",
      "[CLS] 転職 者 なら 誰\n"
     ]
    }
   ],
   "source": [
    "# 0 番目 の 5 トーク ン までの ID を 表示\n",
    "print(train_encoding[\"input_ids\"][ 0][: 5]) \n",
    "# 0 番目 の 5 トーク ン までの トー クン を デコード し て 表示\n",
    "print(tokenizer.decode(train_encoding[\"input_ids\"][0][:5]))"
   ]
  },
  {
   "cell_type": "code",
   "execution_count": 11,
   "metadata": {},
   "outputs": [],
   "source": [
    "class CreateDataset(torch.utils.data.Dataset):\n",
    "    def __init__(self, encodings, labels):\n",
    "        self.encodings = encodings\n",
    "        self.labels = labels\n",
    "    \n",
    "    def __getitem__( self, idx):\n",
    "        item = {key:torch.tensor(val[idx]).clone().detach() for key, val in self.encodings.items()}\n",
    "        item['labels'] = torch.tensor(self.labels[idx]).clone().detach()\n",
    "        return item\n",
    "    \n",
    "    def __len__( self):\n",
    "        return len(self.labels)\n",
    "\n",
    "train_dataset = CreateDataset(train_encoding, train_label)\n",
    "val_dataset = CreateDataset(valid_encoding, valid_label)\n",
    "test_dataset = CreateDataset(test_encoding, test_label)\n"
   ]
  },
  {
   "cell_type": "code",
   "execution_count": 12,
   "metadata": {},
   "outputs": [],
   "source": [
    "def saveModel(): \n",
    "    path = \"./IzumiElectraModel_forbertseqclassifier_freeezparam.pth\" \n",
    "    torch.save(model.state_dict(), path)\n",
    "\n",
    "model = model.to(device)"
   ]
  },
  {
   "cell_type": "code",
   "execution_count": 18,
   "metadata": {},
   "outputs": [
    {
     "name": "stderr",
     "output_type": "stream",
     "text": [
      "e:\\anaconda_env\\nlp\\lib\\site-packages\\transformers\\optimization.py:306: FutureWarning: This implementation of AdamW is deprecated and will be removed in a future version. Use the PyTorch implementation torch.optim.AdamW instead, or set `no_deprecation_warning=True` to disable this warning\n",
      "  warnings.warn(\n",
      "  0%|          | 0/295 [00:00<?, ?it/s]C:\\Users\\windo\\AppData\\Local\\Temp\\ipykernel_26848\\1214768838.py:7: UserWarning: To copy construct from a tensor, it is recommended to use sourceTensor.clone().detach() or sourceTensor.clone().detach().requires_grad_(True), rather than torch.tensor(sourceTensor).\n",
      "  item = {key:torch.tensor(val[idx]).clone().detach() for key, val in self.encodings.items()}\n",
      "C:\\Users\\windo\\AppData\\Local\\Temp\\ipykernel_26848\\1214768838.py:8: UserWarning: To copy construct from a tensor, it is recommended to use sourceTensor.clone().detach() or sourceTensor.clone().detach().requires_grad_(True), rather than torch.tensor(sourceTensor).\n",
      "  item['labels'] = torch.tensor(self.labels[idx]).clone().detach()\n",
      "100%|██████████| 295/295 [00:31<00:00,  9.41it/s]\n",
      "100%|██████████| 74/74 [00:07<00:00,  9.36it/s]\n"
     ]
    },
    {
     "name": "stdout",
     "output_type": "stream",
     "text": [
      "Completed training batch 0 Training Loss is: 1.3404 Validation Loss is: 1.0874 Accuracy is 59 %\n"
     ]
    },
    {
     "name": "stderr",
     "output_type": "stream",
     "text": [
      "100%|██████████| 295/295 [00:29<00:00, 10.08it/s]\n",
      "100%|██████████| 74/74 [00:06<00:00, 11.15it/s]\n"
     ]
    },
    {
     "name": "stdout",
     "output_type": "stream",
     "text": [
      "Completed training batch 1 Training Loss is: 0.7730 Validation Loss is: 1.0493 Accuracy is 65 %\n"
     ]
    },
    {
     "name": "stderr",
     "output_type": "stream",
     "text": [
      "100%|██████████| 295/295 [00:26<00:00, 11.34it/s]\n",
      "100%|██████████| 74/74 [00:06<00:00, 11.12it/s]\n"
     ]
    },
    {
     "name": "stdout",
     "output_type": "stream",
     "text": [
      "Completed training batch 2 Training Loss is: 0.7592 Validation Loss is: 0.8911 Accuracy is 67 %\n"
     ]
    },
    {
     "name": "stderr",
     "output_type": "stream",
     "text": [
      "100%|██████████| 295/295 [00:25<00:00, 11.79it/s]\n",
      "100%|██████████| 74/74 [00:06<00:00, 10.58it/s]\n"
     ]
    },
    {
     "name": "stdout",
     "output_type": "stream",
     "text": [
      "Completed training batch 3 Training Loss is: 0.7251 Validation Loss is: 0.8738 Accuracy is 68 %\n"
     ]
    },
    {
     "name": "stderr",
     "output_type": "stream",
     "text": [
      "100%|██████████| 295/295 [00:31<00:00,  9.31it/s]\n",
      "100%|██████████| 74/74 [00:08<00:00,  8.31it/s]\n"
     ]
    },
    {
     "name": "stdout",
     "output_type": "stream",
     "text": [
      "Completed training batch 4 Training Loss is: 0.7211 Validation Loss is: 0.8390 Accuracy is 72 %\n"
     ]
    },
    {
     "name": "stderr",
     "output_type": "stream",
     "text": [
      "100%|██████████| 295/295 [00:35<00:00,  8.28it/s]\n",
      "100%|██████████| 74/74 [00:08<00:00,  8.25it/s]\n"
     ]
    },
    {
     "name": "stdout",
     "output_type": "stream",
     "text": [
      "Completed training batch 5 Training Loss is: 0.7217 Validation Loss is: 0.9186 Accuracy is 68 %\n"
     ]
    },
    {
     "name": "stderr",
     "output_type": "stream",
     "text": [
      "100%|██████████| 295/295 [00:36<00:00,  8.17it/s]\n",
      "100%|██████████| 74/74 [00:09<00:00,  8.16it/s]\n"
     ]
    },
    {
     "name": "stdout",
     "output_type": "stream",
     "text": [
      "Completed training batch 6 Training Loss is: 0.7190 Validation Loss is: 0.9347 Accuracy is 67 %\n"
     ]
    },
    {
     "name": "stderr",
     "output_type": "stream",
     "text": [
      "100%|██████████| 295/295 [00:36<00:00,  8.15it/s]\n",
      "100%|██████████| 74/74 [00:09<00:00,  8.16it/s]\n"
     ]
    },
    {
     "name": "stdout",
     "output_type": "stream",
     "text": [
      "Completed training batch 7 Training Loss is: 0.7184 Validation Loss is: 0.8782 Accuracy is 69 %\n"
     ]
    },
    {
     "name": "stderr",
     "output_type": "stream",
     "text": [
      "100%|██████████| 295/295 [00:36<00:00,  8.09it/s]\n",
      "100%|██████████| 74/74 [00:09<00:00,  8.15it/s]\n"
     ]
    },
    {
     "name": "stdout",
     "output_type": "stream",
     "text": [
      "Completed training batch 8 Training Loss is: 0.6912 Validation Loss is: 0.9195 Accuracy is 67 %\n"
     ]
    },
    {
     "name": "stderr",
     "output_type": "stream",
     "text": [
      "100%|██████████| 295/295 [00:36<00:00,  8.07it/s]\n",
      "100%|██████████| 74/74 [00:08<00:00,  8.27it/s]\n"
     ]
    },
    {
     "name": "stdout",
     "output_type": "stream",
     "text": [
      "Completed training batch 9 Training Loss is: 0.6805 Validation Loss is: 0.8344 Accuracy is 71 %\n"
     ]
    },
    {
     "name": "stderr",
     "output_type": "stream",
     "text": [
      "100%|██████████| 295/295 [00:36<00:00,  8.13it/s]\n",
      "100%|██████████| 74/74 [00:09<00:00,  8.12it/s]\n"
     ]
    },
    {
     "name": "stdout",
     "output_type": "stream",
     "text": [
      "Completed training batch 10 Training Loss is: 0.6664 Validation Loss is: 0.9923 Accuracy is 67 %\n"
     ]
    },
    {
     "name": "stderr",
     "output_type": "stream",
     "text": [
      "100%|██████████| 295/295 [00:36<00:00,  8.02it/s]\n",
      "100%|██████████| 74/74 [00:09<00:00,  8.03it/s]\n"
     ]
    },
    {
     "name": "stdout",
     "output_type": "stream",
     "text": [
      "Completed training batch 11 Training Loss is: 0.6739 Validation Loss is: 0.8420 Accuracy is 71 %\n"
     ]
    },
    {
     "name": "stderr",
     "output_type": "stream",
     "text": [
      "100%|██████████| 295/295 [00:37<00:00,  7.95it/s]\n",
      "100%|██████████| 74/74 [00:09<00:00,  8.02it/s]\n"
     ]
    },
    {
     "name": "stdout",
     "output_type": "stream",
     "text": [
      "Completed training batch 12 Training Loss is: 0.6604 Validation Loss is: 0.8780 Accuracy is 70 %\n"
     ]
    },
    {
     "name": "stderr",
     "output_type": "stream",
     "text": [
      "100%|██████████| 295/295 [00:37<00:00,  7.97it/s]\n",
      "100%|██████████| 74/74 [00:09<00:00,  7.97it/s]\n"
     ]
    },
    {
     "name": "stdout",
     "output_type": "stream",
     "text": [
      "Completed training batch 13 Training Loss is: 0.6594 Validation Loss is: 0.8145 Accuracy is 71 %\n"
     ]
    },
    {
     "name": "stderr",
     "output_type": "stream",
     "text": [
      "100%|██████████| 295/295 [00:37<00:00,  7.94it/s]\n",
      "100%|██████████| 74/74 [00:09<00:00,  7.99it/s]\n"
     ]
    },
    {
     "name": "stdout",
     "output_type": "stream",
     "text": [
      "Completed training batch 14 Training Loss is: 0.6392 Validation Loss is: 0.8648 Accuracy is 70 %\n"
     ]
    },
    {
     "name": "stderr",
     "output_type": "stream",
     "text": [
      "100%|██████████| 295/295 [00:37<00:00,  7.94it/s]\n",
      "100%|██████████| 74/74 [00:09<00:00,  7.97it/s]\n"
     ]
    },
    {
     "name": "stdout",
     "output_type": "stream",
     "text": [
      "Completed training batch 15 Training Loss is: 0.6426 Validation Loss is: 0.9428 Accuracy is 68 %\n"
     ]
    },
    {
     "name": "stderr",
     "output_type": "stream",
     "text": [
      "100%|██████████| 295/295 [00:37<00:00,  7.95it/s]\n",
      "100%|██████████| 74/74 [00:09<00:00,  7.97it/s]\n"
     ]
    },
    {
     "name": "stdout",
     "output_type": "stream",
     "text": [
      "Completed training batch 16 Training Loss is: 0.6296 Validation Loss is: 0.8751 Accuracy is 70 %\n"
     ]
    },
    {
     "name": "stderr",
     "output_type": "stream",
     "text": [
      "100%|██████████| 295/295 [00:37<00:00,  7.94it/s]\n",
      "100%|██████████| 74/74 [00:09<00:00,  7.95it/s]\n"
     ]
    },
    {
     "name": "stdout",
     "output_type": "stream",
     "text": [
      "Completed training batch 17 Training Loss is: 0.6211 Validation Loss is: 0.8668 Accuracy is 70 %\n"
     ]
    },
    {
     "name": "stderr",
     "output_type": "stream",
     "text": [
      "100%|██████████| 295/295 [00:37<00:00,  7.88it/s]\n",
      "100%|██████████| 74/74 [00:09<00:00,  7.92it/s]\n"
     ]
    },
    {
     "name": "stdout",
     "output_type": "stream",
     "text": [
      "Completed training batch 18 Training Loss is: 0.6383 Validation Loss is: 0.9211 Accuracy is 70 %\n"
     ]
    },
    {
     "name": "stderr",
     "output_type": "stream",
     "text": [
      "100%|██████████| 295/295 [00:37<00:00,  7.88it/s]\n",
      "100%|██████████| 74/74 [00:09<00:00,  7.93it/s]\n"
     ]
    },
    {
     "name": "stdout",
     "output_type": "stream",
     "text": [
      "Completed training batch 19 Training Loss is: 0.6135 Validation Loss is: 0.8614 Accuracy is 72 %\n"
     ]
    },
    {
     "name": "stderr",
     "output_type": "stream",
     "text": [
      "100%|██████████| 295/295 [00:37<00:00,  7.93it/s]\n",
      "100%|██████████| 74/74 [00:09<00:00,  7.93it/s]\n"
     ]
    },
    {
     "name": "stdout",
     "output_type": "stream",
     "text": [
      "Completed training batch 20 Training Loss is: 0.6089 Validation Loss is: 0.9160 Accuracy is 69 %\n"
     ]
    },
    {
     "name": "stderr",
     "output_type": "stream",
     "text": [
      "100%|██████████| 295/295 [00:37<00:00,  7.89it/s]\n",
      "100%|██████████| 74/74 [00:09<00:00,  7.90it/s]\n"
     ]
    },
    {
     "name": "stdout",
     "output_type": "stream",
     "text": [
      "Completed training batch 21 Training Loss is: 0.5966 Validation Loss is: 0.8350 Accuracy is 71 %\n"
     ]
    },
    {
     "name": "stderr",
     "output_type": "stream",
     "text": [
      "100%|██████████| 295/295 [00:37<00:00,  7.89it/s]\n",
      "100%|██████████| 74/74 [00:09<00:00,  7.90it/s]\n"
     ]
    },
    {
     "name": "stdout",
     "output_type": "stream",
     "text": [
      "Completed training batch 22 Training Loss is: 0.6019 Validation Loss is: 0.9430 Accuracy is 69 %\n"
     ]
    },
    {
     "name": "stderr",
     "output_type": "stream",
     "text": [
      "100%|██████████| 295/295 [00:37<00:00,  7.87it/s]\n",
      "100%|██████████| 74/74 [00:09<00:00,  7.89it/s]\n"
     ]
    },
    {
     "name": "stdout",
     "output_type": "stream",
     "text": [
      "Completed training batch 23 Training Loss is: 0.6125 Validation Loss is: 0.9315 Accuracy is 69 %\n"
     ]
    },
    {
     "name": "stderr",
     "output_type": "stream",
     "text": [
      "100%|██████████| 295/295 [00:37<00:00,  7.89it/s]\n",
      "100%|██████████| 74/74 [00:09<00:00,  7.90it/s]\n"
     ]
    },
    {
     "name": "stdout",
     "output_type": "stream",
     "text": [
      "Completed training batch 24 Training Loss is: 0.5880 Validation Loss is: 0.8296 Accuracy is 71 %\n"
     ]
    },
    {
     "name": "stderr",
     "output_type": "stream",
     "text": [
      "100%|██████████| 295/295 [00:37<00:00,  7.89it/s]\n",
      "100%|██████████| 74/74 [00:09<00:00,  7.88it/s]\n"
     ]
    },
    {
     "name": "stdout",
     "output_type": "stream",
     "text": [
      "Completed training batch 25 Training Loss is: 0.5636 Validation Loss is: 0.8152 Accuracy is 73 %\n"
     ]
    },
    {
     "name": "stderr",
     "output_type": "stream",
     "text": [
      "100%|██████████| 295/295 [00:37<00:00,  7.92it/s]\n",
      "100%|██████████| 74/74 [00:09<00:00,  7.93it/s]\n"
     ]
    },
    {
     "name": "stdout",
     "output_type": "stream",
     "text": [
      "Completed training batch 26 Training Loss is: 0.5737 Validation Loss is: 0.9466 Accuracy is 69 %\n"
     ]
    },
    {
     "name": "stderr",
     "output_type": "stream",
     "text": [
      "100%|██████████| 295/295 [00:37<00:00,  7.87it/s]\n",
      "100%|██████████| 74/74 [00:09<00:00,  7.89it/s]\n"
     ]
    },
    {
     "name": "stdout",
     "output_type": "stream",
     "text": [
      "Completed training batch 27 Training Loss is: 0.5742 Validation Loss is: 0.9077 Accuracy is 71 %\n"
     ]
    },
    {
     "name": "stderr",
     "output_type": "stream",
     "text": [
      "100%|██████████| 295/295 [00:37<00:00,  7.87it/s]\n",
      "100%|██████████| 74/74 [00:09<00:00,  7.89it/s]\n"
     ]
    },
    {
     "name": "stdout",
     "output_type": "stream",
     "text": [
      "Completed training batch 28 Training Loss is: 0.5728 Validation Loss is: 1.1102 Accuracy is 64 %\n"
     ]
    },
    {
     "name": "stderr",
     "output_type": "stream",
     "text": [
      "100%|██████████| 295/295 [00:37<00:00,  7.88it/s]\n",
      "100%|██████████| 74/74 [00:09<00:00,  7.88it/s]\n"
     ]
    },
    {
     "name": "stdout",
     "output_type": "stream",
     "text": [
      "Completed training batch 29 Training Loss is: 0.5932 Validation Loss is: 0.9111 Accuracy is 71 %\n"
     ]
    },
    {
     "name": "stderr",
     "output_type": "stream",
     "text": [
      "100%|██████████| 295/295 [00:37<00:00,  7.89it/s]\n",
      "100%|██████████| 74/74 [00:09<00:00,  7.92it/s]\n"
     ]
    },
    {
     "name": "stdout",
     "output_type": "stream",
     "text": [
      "Completed training batch 30 Training Loss is: 0.5485 Validation Loss is: 0.9657 Accuracy is 68 %\n"
     ]
    },
    {
     "name": "stderr",
     "output_type": "stream",
     "text": [
      "100%|██████████| 295/295 [00:37<00:00,  7.89it/s]\n",
      "100%|██████████| 74/74 [00:09<00:00,  7.94it/s]\n"
     ]
    },
    {
     "name": "stdout",
     "output_type": "stream",
     "text": [
      "Completed training batch 31 Training Loss is: 0.5513 Validation Loss is: 0.8846 Accuracy is 70 %\n"
     ]
    },
    {
     "name": "stderr",
     "output_type": "stream",
     "text": [
      "100%|██████████| 295/295 [00:37<00:00,  7.90it/s]\n",
      "100%|██████████| 74/74 [00:09<00:00,  8.08it/s]\n"
     ]
    },
    {
     "name": "stdout",
     "output_type": "stream",
     "text": [
      "Completed training batch 32 Training Loss is: 0.5354 Validation Loss is: 1.1487 Accuracy is 66 %\n"
     ]
    },
    {
     "name": "stderr",
     "output_type": "stream",
     "text": [
      "100%|██████████| 295/295 [00:36<00:00,  7.98it/s]\n",
      "100%|██████████| 74/74 [00:09<00:00,  7.82it/s]\n"
     ]
    },
    {
     "name": "stdout",
     "output_type": "stream",
     "text": [
      "Completed training batch 33 Training Loss is: 0.5596 Validation Loss is: 0.8818 Accuracy is 71 %\n"
     ]
    },
    {
     "name": "stderr",
     "output_type": "stream",
     "text": [
      "100%|██████████| 295/295 [00:37<00:00,  7.86it/s]\n",
      "100%|██████████| 74/74 [00:09<00:00,  7.92it/s]\n"
     ]
    },
    {
     "name": "stdout",
     "output_type": "stream",
     "text": [
      "Completed training batch 34 Training Loss is: 0.5578 Validation Loss is: 0.9222 Accuracy is 69 %\n"
     ]
    },
    {
     "name": "stderr",
     "output_type": "stream",
     "text": [
      "100%|██████████| 295/295 [00:37<00:00,  7.93it/s]\n",
      "100%|██████████| 74/74 [00:09<00:00,  7.83it/s]\n"
     ]
    },
    {
     "name": "stdout",
     "output_type": "stream",
     "text": [
      "Completed training batch 35 Training Loss is: 0.5577 Validation Loss is: 0.9195 Accuracy is 70 %\n"
     ]
    },
    {
     "name": "stderr",
     "output_type": "stream",
     "text": [
      "100%|██████████| 295/295 [00:37<00:00,  7.93it/s]\n",
      "100%|██████████| 74/74 [00:09<00:00,  8.01it/s]\n"
     ]
    },
    {
     "name": "stdout",
     "output_type": "stream",
     "text": [
      "Completed training batch 36 Training Loss is: 0.5476 Validation Loss is: 0.8831 Accuracy is 71 %\n"
     ]
    },
    {
     "name": "stderr",
     "output_type": "stream",
     "text": [
      "100%|██████████| 295/295 [00:37<00:00,  7.90it/s]\n",
      "100%|██████████| 74/74 [00:09<00:00,  7.78it/s]\n"
     ]
    },
    {
     "name": "stdout",
     "output_type": "stream",
     "text": [
      "Completed training batch 37 Training Loss is: 0.5269 Validation Loss is: 0.8610 Accuracy is 71 %\n"
     ]
    },
    {
     "name": "stderr",
     "output_type": "stream",
     "text": [
      "100%|██████████| 295/295 [00:37<00:00,  7.91it/s]\n",
      "100%|██████████| 74/74 [00:09<00:00,  7.93it/s]\n"
     ]
    },
    {
     "name": "stdout",
     "output_type": "stream",
     "text": [
      "Completed training batch 38 Training Loss is: 0.5246 Validation Loss is: 0.9148 Accuracy is 70 %\n"
     ]
    },
    {
     "name": "stderr",
     "output_type": "stream",
     "text": [
      "100%|██████████| 295/295 [00:37<00:00,  7.83it/s]\n",
      "100%|██████████| 74/74 [00:09<00:00,  7.88it/s]\n"
     ]
    },
    {
     "name": "stdout",
     "output_type": "stream",
     "text": [
      "Completed training batch 39 Training Loss is: 0.5241 Validation Loss is: 0.8961 Accuracy is 71 %\n"
     ]
    },
    {
     "name": "stderr",
     "output_type": "stream",
     "text": [
      "100%|██████████| 295/295 [00:37<00:00,  7.83it/s]\n",
      "100%|██████████| 74/74 [00:09<00:00,  7.81it/s]\n"
     ]
    },
    {
     "name": "stdout",
     "output_type": "stream",
     "text": [
      "Completed training batch 40 Training Loss is: 0.5092 Validation Loss is: 0.8709 Accuracy is 72 %\n"
     ]
    },
    {
     "name": "stderr",
     "output_type": "stream",
     "text": [
      "100%|██████████| 295/295 [00:37<00:00,  7.86it/s]\n",
      "100%|██████████| 74/74 [00:09<00:00,  7.85it/s]\n"
     ]
    },
    {
     "name": "stdout",
     "output_type": "stream",
     "text": [
      "Completed training batch 41 Training Loss is: 0.5442 Validation Loss is: 0.8730 Accuracy is 72 %\n"
     ]
    },
    {
     "name": "stderr",
     "output_type": "stream",
     "text": [
      "100%|██████████| 295/295 [00:37<00:00,  7.77it/s]\n",
      "100%|██████████| 74/74 [00:09<00:00,  7.87it/s]\n"
     ]
    },
    {
     "name": "stdout",
     "output_type": "stream",
     "text": [
      "Completed training batch 42 Training Loss is: 0.5380 Validation Loss is: 0.9677 Accuracy is 71 %\n"
     ]
    },
    {
     "name": "stderr",
     "output_type": "stream",
     "text": [
      "100%|██████████| 295/295 [00:37<00:00,  7.86it/s]\n",
      "100%|██████████| 74/74 [00:09<00:00,  7.87it/s]\n"
     ]
    },
    {
     "name": "stdout",
     "output_type": "stream",
     "text": [
      "Completed training batch 43 Training Loss is: 0.5177 Validation Loss is: 0.8358 Accuracy is 72 %\n"
     ]
    },
    {
     "name": "stderr",
     "output_type": "stream",
     "text": [
      "100%|██████████| 295/295 [00:37<00:00,  7.86it/s]\n",
      "100%|██████████| 74/74 [00:09<00:00,  7.90it/s]\n"
     ]
    },
    {
     "name": "stdout",
     "output_type": "stream",
     "text": [
      "Completed training batch 44 Training Loss is: 0.4905 Validation Loss is: 0.9775 Accuracy is 68 %\n"
     ]
    },
    {
     "name": "stderr",
     "output_type": "stream",
     "text": [
      "100%|██████████| 295/295 [00:37<00:00,  7.82it/s]\n",
      "100%|██████████| 74/74 [00:09<00:00,  7.88it/s]\n"
     ]
    },
    {
     "name": "stdout",
     "output_type": "stream",
     "text": [
      "Completed training batch 45 Training Loss is: 0.5002 Validation Loss is: 0.8235 Accuracy is 73 %\n"
     ]
    },
    {
     "name": "stderr",
     "output_type": "stream",
     "text": [
      "100%|██████████| 295/295 [00:37<00:00,  7.88it/s]\n",
      "100%|██████████| 74/74 [00:09<00:00,  7.90it/s]\n"
     ]
    },
    {
     "name": "stdout",
     "output_type": "stream",
     "text": [
      "Completed training batch 46 Training Loss is: 0.4826 Validation Loss is: 0.8749 Accuracy is 72 %\n"
     ]
    },
    {
     "name": "stderr",
     "output_type": "stream",
     "text": [
      "100%|██████████| 295/295 [00:37<00:00,  7.88it/s]\n",
      "100%|██████████| 74/74 [00:09<00:00,  7.84it/s]\n"
     ]
    },
    {
     "name": "stdout",
     "output_type": "stream",
     "text": [
      "Completed training batch 47 Training Loss is: 0.4877 Validation Loss is: 0.8770 Accuracy is 72 %\n"
     ]
    },
    {
     "name": "stderr",
     "output_type": "stream",
     "text": [
      "100%|██████████| 295/295 [00:37<00:00,  7.84it/s]\n",
      "100%|██████████| 74/74 [00:09<00:00,  7.89it/s]\n"
     ]
    },
    {
     "name": "stdout",
     "output_type": "stream",
     "text": [
      "Completed training batch 48 Training Loss is: 0.4887 Validation Loss is: 0.9581 Accuracy is 71 %\n"
     ]
    },
    {
     "name": "stderr",
     "output_type": "stream",
     "text": [
      "100%|██████████| 295/295 [00:37<00:00,  7.84it/s]\n",
      "100%|██████████| 74/74 [00:09<00:00,  7.85it/s]"
     ]
    },
    {
     "name": "stdout",
     "output_type": "stream",
     "text": [
      "Completed training batch 49 Training Loss is: 0.4711 Validation Loss is: 0.9338 Accuracy is 70 %\n"
     ]
    },
    {
     "name": "stderr",
     "output_type": "stream",
     "text": [
      "\n"
     ]
    }
   ],
   "source": [
    "loss_fn = torch.nn.CrossEntropyLoss()\n",
    "train_loader = DataLoader(train_dataset, batch_size = 16, shuffle = True)\n",
    "validate_loader = DataLoader(val_dataset, batch_size = 16, shuffle = True)\n",
    "\n",
    "optimizer = AdamW(model.parameters(), lr=0.003)\n",
    "model.train()\n",
    "epochs = 50\n",
    "train_losses = []\n",
    "valid_losses = []\n",
    "acc_epoc = []\n",
    "best_accuracy = 0.0 \n",
    "\n",
    "model.train()\n",
    "#再学習\n",
    "for epoch in range(epochs):\n",
    "    running_train_loss = 0.0 \n",
    "    running_accuracy = 0.0 \n",
    "    running_vall_loss = 0.0 \n",
    "    total = 0 \n",
    "\n",
    "    # Training Loop \n",
    "    for batch in tqdm(train_loader):\n",
    "        optimizer.zero_grad()\n",
    "        input_ids = batch['input_ids'].to(device)\n",
    "        attention_mask = batch['attention_mask'].to(device)\n",
    "        labels = batch['labels'].to(device)\n",
    "        outputs = model(input_ids, attention_mask = attention_mask, labels = labels)\n",
    "        logits = outputs.logits\n",
    "        loss = outputs.loss\n",
    "        loss.backward()\n",
    "        optimizer.step()\n",
    "        \n",
    "        running_train_loss +=loss.item()\n",
    "\n",
    "    # Calculate training loss value \n",
    "    train_loss_value = running_train_loss/len(train_loader) \n",
    "    train_losses.append(train_loss_value)\n",
    "    \n",
    "    # Validation Loop \n",
    "    with torch.no_grad(): \n",
    "        model.eval() \n",
    "        for batch in tqdm(validate_loader): \n",
    "            input_ids = batch['input_ids'].to(device)\n",
    "            attention_mask = batch['attention_mask'].to(device)\n",
    "            labels = batch['labels'].to(device)\n",
    "            outputs = model(input_ids, attention_mask = attention_mask, labels = labels)\n",
    "            logits = outputs.logits\n",
    "            val_loss = outputs.loss\n",
    "            \n",
    "            \n",
    "            # The label with the highest value will be our prediction \n",
    "            _, predicted = torch.max(logits, 1) \n",
    "            running_vall_loss += val_loss.item()  \n",
    "            total += logits.size(0) \n",
    "            running_accuracy += (predicted == labels).sum().item()\n",
    "\n",
    "    # Calculate validation loss value \n",
    "    val_loss_value = running_vall_loss/len(validate_loader)\n",
    "    valid_losses.append(val_loss_value)\n",
    "            \n",
    "    # Calculate accuracy as the number of correct predictions in the validation batch divided by the total number of predictions done.  \n",
    "    accuracy = (100 * running_accuracy / total)\n",
    "    acc_epoc.append(accuracy)    \n",
    "\n",
    "    # Save the model if the accuracy is the best \n",
    "    if accuracy > best_accuracy: \n",
    "        saveModel() \n",
    "        best_accuracy = accuracy\n",
    "\n",
    "    print('Completed training batch', epoch, 'Training Loss is: %.4f' %train_loss_value, 'Validation Loss is: %.4f' %val_loss_value, 'Accuracy is %d %%' % (accuracy))"
   ]
  },
  {
   "cell_type": "code",
   "execution_count": 24,
   "metadata": {},
   "outputs": [
    {
     "data": {
      "image/png": "[encoded data removed]",
      "text/plain": [
       "<Figure size 432x288 with 1 Axes>"
      ]
     },
     "metadata": {
      "needs_background": "light"
     },
     "output_type": "display_data"
    },
    {
     "data": {
      "image/png": "[encoded data removed]",
      "text/plain": [
       "<Figure size 432x288 with 1 Axes>"
      ]
     },
     "metadata": {
      "needs_background": "light"
     },
     "output_type": "display_data"
    },
    {
     "data": {
      "image/png": "[encoded data removed]",
      "text/plain": [
       "<Figure size 432x288 with 1 Axes>"
      ]
     },
     "metadata": {
      "needs_background": "light"
     },
     "output_type": "display_data"
    }
   ],
   "source": [
    "import matplotlib.pyplot as plt\n",
    "import seaborn as sns\n",
    "losses_ = [loss for loss in train_losses]\n",
    "plt.plot(losses_)\n",
    "plt.show()\n",
    "\n",
    "losses_ = [loss for loss in valid_losses]\n",
    "plt.plot(losses_)\n",
    "plt.show()\n",
    "\n",
    "losses_ = [loss for loss in acc_epoc]\n",
    "plt.plot(losses_)\n",
    "plt.show()\n"
   ]
  },
  {
   "cell_type": "code",
   "execution_count": 21,
   "metadata": {},
   "outputs": [
    {
     "name": "stderr",
     "output_type": "stream",
     "text": [
      "100%|██████████| 1475/1475 [00:24<00:00, 59.21it/s]\n"
     ]
    }
   ],
   "source": [
    "model.load_state_dict(torch.load('./model/IzumiElectraModel_forbertseqclassifier_freeezparam.pth'))\n",
    "model.eval()\n",
    "preds = []\n",
    "test_label = test_df[\"label\"].to_list()\n",
    "with torch.no_grad():\n",
    "    for words in tqdm(test_df[\"text\"].to_list()):\n",
    "        text = \"\".join(words)\n",
    "        inputs = tokenizer.encode(text, return_tensors=\"pt\",padding=True, truncation=True, max_length=max_len).to(device)\n",
    "        outputs = model(inputs)\n",
    "        logits = outputs.logits\n",
    "        pred=logits.argmax(1).item()\n",
    "        preds.append(pred)"
   ]
  },
  {
   "cell_type": "code",
   "execution_count": 22,
   "metadata": {},
   "outputs": [
    {
     "name": "stdout",
     "output_type": "stream",
     "text": [
      "0.7457627118644068\n"
     ]
    }
   ],
   "source": [
    "correct_cnt = 0\n",
    "for pred, ans in zip(preds, test_label):\n",
    "    if pred == ans:\n",
    "        correct_cnt += 1\n",
    "print( correct_cnt/ len(test_label))"
   ]
  },
  {
   "cell_type": "code",
   "execution_count": 25,
   "metadata": {},
   "outputs": [
    {
     "name": "stdout",
     "output_type": "stream",
     "text": [
      "カテゴリー数: 9\n",
      "['dokujo-tsushin', 'it-life-hack', 'kaden-channel', 'livedoor-homme', 'movie-enter', 'peachy', 'smax', 'sports-watch', 'topic-news']\n"
     ]
    },
    {
     "data": {
      "image/png": "[encoded data removed]",
      "text/plain": [
       "<Figure size 720x720 with 2 Axes>"
      ]
     },
     "metadata": {
      "needs_background": "light"
     },
     "output_type": "display_data"
    }
   ],
   "source": [
    "from sklearn.metrics import confusion_matrix\n",
    "import os\n",
    "categories = [name for name in os.listdir(\n",
    "    \"./data/livedoor/text/\") if os.path.isdir(\"./data/livedoor/text/\"+name)]\n",
    "\n",
    "print(\"カテゴリー数:\", len(categories))\n",
    "print(categories)\n",
    "\n",
    "cm = confusion_matrix(test_label, preds)\n",
    "cm = pd.DataFrame(data=cm, index=categories, \n",
    "                           columns=categories,)\n",
    "\n",
    "fig = plt.figure()\n",
    "sns.heatmap(cm, square=True, cbar=True, annot=True, cmap='Blues')\n",
    "plt.yticks(rotation=0)\n",
    "plt.xlabel(\"Predict\", fontsize=13, rotation=0)\n",
    "plt.ylabel(\"ground truth\", fontsize=13)\n",
    "fig.set_figheight(10)\n",
    "fig.set_figwidth(10)"
   ]
  },
  {
   "cell_type": "code",
   "execution_count": null,
   "metadata": {},
   "outputs": [],
   "source": []
  }
 ],
 "metadata": {
  "kernelspec": {
   "display_name": "Python 3.9.13 ('nlp')",
   "language": "python",
   "name": "python3"
  },
  "language_info": {
   "codemirror_mode": {
    "name": "ipython",
    "version": 3
   },
   "file_extension": ".py",
   "mimetype": "text/x-python",
   "name": "python",
   "nbconvert_exporter": "python",
   "pygments_lexer": "ipython3",
   "version": "3.9.13"
  },
  "orig_nbformat": 4,
  "vscode": {
   "interpreter": {
    "hash": "5955dc64dc45c9f6ad89241066402e9b90de6090510d28e2354caffb11d22191"
   }
  }
 },
 "nbformat": 4,
 "nbformat_minor": 2
}
